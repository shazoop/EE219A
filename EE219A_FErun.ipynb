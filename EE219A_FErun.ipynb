{
 "cells": [
  {
   "cell_type": "code",
   "execution_count": 1,
   "metadata": {},
   "outputs": [],
   "source": [
    "import numpy as np\n",
    "import matplotlib.pyplot as plt\n",
    "import torch\n",
    "import FE_DAE as fe\n",
    "from FE_DAEsolver import *\n",
    "from data_generator import *\n",
    "import importlib\n",
    "import cv2"
   ]
  },
  {
   "cell_type": "markdown",
   "metadata": {},
   "source": [
    "## Generate Data"
   ]
  },
  {
   "cell_type": "code",
   "execution_count": 3,
   "metadata": {},
   "outputs": [],
   "source": [
    "torch.cuda.set_device(1) #use GPU 1"
   ]
  },
  {
   "cell_type": "code",
   "execution_count": 4,
   "metadata": {},
   "outputs": [],
   "source": [
    "import torchvision\n",
    "import torchvision.datasets as datasets\n",
    "#Download MNIST\n",
    "mnist_trainset = datasets.MNIST(root='./data', train=True, download=True, transform=None)\n",
    "\n",
    "#Load\n",
    "#mnist_trainset = datasets.MNIST(root='./data', train=True, download=False, transform=None)"
   ]
  },
  {
   "cell_type": "code",
   "execution_count": 5,
   "metadata": {},
   "outputs": [],
   "source": [
    "torch.set_default_tensor_type('torch.cuda.FloatTensor')\n",
    "torch.cuda.set_device(0) #use GPU 1"
   ]
  },
  {
   "cell_type": "code",
   "execution_count": 6,
   "metadata": {},
   "outputs": [],
   "source": [
    "data_load = torch.utils.data.DataLoader(mnist_trainset, shuffle = True)"
   ]
  },
  {
   "cell_type": "code",
   "execution_count": 95,
   "metadata": {},
   "outputs": [],
   "source": [
    "mov_len = 5"
   ]
  },
  {
   "cell_type": "code",
   "execution_count": 96,
   "metadata": {},
   "outputs": [],
   "source": [
    "images = data_load.dataset.data[0:1000].numpy()\n",
    "M = rand_trans(images, 1, 3)\n",
    "data_mov = torch.from_numpy(image_gen(images,M, mov_len)).float().cuda()\n",
    "data_mov = data_mov/255"
   ]
  },
  {
   "cell_type": "code",
   "execution_count": 100,
   "metadata": {},
   "outputs": [
    {
     "data": {
      "image/png": "[encoded data removed]",
      "text/plain": [
       "<Figure size 360x360 with 5 Axes>"
      ]
     },
     "metadata": {
      "needs_background": "light"
     },
     "output_type": "display_data"
    }
   ],
   "source": [
    "ix = 15\n",
    "fig = plt.figure(figsize = (mov_len,5))\n",
    "for i in range(mov_len):\n",
    "    fig.add_subplot(1,mov_len,i+1)\n",
    "    plt.imshow(data_mov[ix,i,:,:].cpu().numpy(),cmap='Greys')\n",
    "plt.savefig('MNIST sequence')"
   ]
  },
  {
   "cell_type": "markdown",
   "metadata": {},
   "source": [
    "## Simulate FE V1 DAE"
   ]
  },
  {
   "cell_type": "code",
   "execution_count": 10,
   "metadata": {},
   "outputs": [
    {
     "data": {
      "text/plain": [
       "<module 'FE_DAE' from '/home/shazoop/form-and-motion/EE219A/FE_DAE.py'>"
      ]
     },
     "execution_count": 10,
     "metadata": {},
     "output_type": "execute_result"
    }
   ],
   "source": [
    "importlib.reload(fe)"
   ]
  },
  {
   "cell_type": "code",
   "execution_count": 20,
   "metadata": {},
   "outputs": [
    {
     "data": {
      "text/plain": [
       "['Layer 1 has 25 units per layer, depth 16, and RF size: 12 by 12',\n",
       " 'Layer 2 has 9 units per layer, depth 16, and RF size: 3 by 3',\n",
       " 'Layer 3 has 4 units per layer, depth 32, and RF size: 2 by 2',\n",
       " 'Time step: 0.05 s']"
      ]
     },
     "execution_count": 20,
     "metadata": {},
     "output_type": "execute_result"
    }
   ],
   "source": [
    "main = fe.FE_V1()\n",
    "main.summary()"
   ]
  },
  {
   "cell_type": "code",
   "execution_count": 21,
   "metadata": {},
   "outputs": [
    {
     "data": {
      "text/plain": [
       "{'pixel dim': 28,\n",
       " 'RF 1 dim': 12,\n",
       " 'layer1 depth': 16,\n",
       " 'RF 2 dim': 3,\n",
       " 'layer 2 depth': 16,\n",
       " 'RF 3 dim': 2,\n",
       " 'layer 3 depth': 32,\n",
       " 'L1Hebb': 1e-06,\n",
       " 'L1AntiH': 0.01,\n",
       " 'L1thresh': 1e-06,\n",
       " 'L2Hebb': 2e-06,\n",
       " 'L3Hebb': 3e-06,\n",
       " 'L1prob': 0.125,\n",
       " 'L1 stride': 4,\n",
       " 'L2 stride': 1,\n",
       " 'L3 stride': 1,\n",
       " 'time step': 0.05}"
      ]
     },
     "execution_count": 21,
     "metadata": {},
     "output_type": "execute_result"
    }
   ],
   "source": [
    "main.print_parms()"
   ]
  },
  {
   "cell_type": "code",
   "execution_count": 1462,
   "metadata": {},
   "outputs": [],
   "source": [
    "x = main.x_init()\n",
    "y,W_y,Q,t,z,W_z,z_bar,v,W_v,v_bar = x"
   ]
  },
  {
   "cell_type": "code",
   "execution_count": 1463,
   "metadata": {
    "scrolled": true
   },
   "outputs": [
    {
     "name": "stdout",
     "output_type": "stream",
     "text": [
      "Step: 0\n",
      "Step: 100\n",
      "Step: 200\n",
      "Step: 300\n",
      "Step: 400\n",
      "Step: 500\n",
      "Step: 600\n",
      "Step: 700\n",
      "Step: 800\n",
      "Step: 900\n",
      "Step: 1000\n",
      "Step: 1100\n",
      "Step: 1200\n",
      "Step: 1300\n",
      "Step: 1400\n",
      "Step: 1500\n",
      "Step: 1600\n",
      "Step: 1700\n",
      "Step: 1800\n",
      "Step: 1900\n",
      "Step: 1999\r"
     ]
    }
   ],
   "source": [
    "trainSteps = 2000\n",
    "for train in range(trainSteps):\n",
    "    input_mov = data_mov[int(np.random.randint(0,data_mov.size(0),1))] #select a random movie sequence\n",
    "    x = FE_movie(main,input_mov, 5, W_y = W_y, Q = Q, t = t, W_z = W_z,W_v = W_v)\n",
    "    y,W_y,Q,t,z,W_z,z_bar,v,W_v,v_bar = x\n",
    "    if train % 100 == 0:\n",
    "        print('Step: %s' % train)\n",
    "    else:\n",
    "        print('Step: %s' % train, end = '\\r')"
   ]
  },
  {
   "cell_type": "code",
   "execution_count": 1394,
   "metadata": {},
   "outputs": [],
   "source": [
    "x_final = x\n",
    "yF,W_yF,QF,tF,zF,W_zF,z_barF,vF,W_vF,v_barF = x_final\n"
   ]
  },
  {
   "cell_type": "code",
   "execution_count": 19,
   "metadata": {},
   "outputs": [
    {
     "data": {
      "text/plain": [
       "torch.Size([2, 2, 32])"
      ]
     },
     "execution_count": 19,
     "metadata": {},
     "output_type": "execute_result"
    }
   ],
   "source": [
    "vF.shape"
   ]
  },
  {
   "cell_type": "code",
   "execution_count": 54,
   "metadata": {},
   "outputs": [],
   "source": [
    "# x_final2 = x_final\n",
    "# yF2,W_yF2,QF2,tF2,zF2,W_zF2,z_barF2,vF2,W_vF2,v_barF2 = x_final2\n",
    "# torch.save(x_final2,'Trial1parms')\n",
    "x_final2 = torch.load('Trial1parms')\n",
    "yF2,W_yF2,QF2,tF2,zF2,W_zF2,z_barF2,vF2,W_vF2,v_barF2 = x_final2\n"
   ]
  },
  {
   "cell_type": "code",
   "execution_count": 55,
   "metadata": {},
   "outputs": [],
   "source": [
    "yF,W_yF,QF,tF,zF,W_zF,z_barF,vF,W_vF,v_barF = x_final2\n"
   ]
  },
  {
   "cell_type": "code",
   "execution_count": 56,
   "metadata": {
    "scrolled": true
   },
   "outputs": [
    {
     "data": {
      "text/plain": [
       "tensor([1.3331e-07, 3.2774e-06, 2.1709e-05, 2.1580e-07, 3.4216e-08, 2.0393e-07,\n",
       "        1.7175e-07, 8.1914e-08, 3.6334e-06, 5.7705e-07, 1.8512e-08, 1.3829e-04,\n",
       "        4.6323e-05, 7.2334e-06, 2.3309e-06, 1.9362e+00])"
      ]
     },
     "execution_count": 56,
     "metadata": {},
     "output_type": "execute_result"
    }
   ],
   "source": [
    "zF[0,0,:]"
   ]
  },
  {
   "cell_type": "code",
   "execution_count": 23,
   "metadata": {},
   "outputs": [],
   "source": [
    "input_mov = data_mov[9]"
   ]
  },
  {
   "cell_type": "code",
   "execution_count": 44,
   "metadata": {},
   "outputs": [],
   "source": [
    "A = torch.rand(4,5)"
   ]
  },
  {
   "cell_type": "code",
   "execution_count": 25,
   "metadata": {},
   "outputs": [
    {
     "data": {
      "text/plain": [
       "torch.Size([1000, 3, 28, 28])"
      ]
     },
     "execution_count": 25,
     "metadata": {},
     "output_type": "execute_result"
    }
   ],
   "source": [
    "data_mov.shape"
   ]
  },
  {
   "cell_type": "code",
   "execution_count": 26,
   "metadata": {},
   "outputs": [
    {
     "data": {
      "image/png": "[encoded data removed]",
      "text/plain": [
       "<Figure size 720x360 with 3 Axes>"
      ]
     },
     "metadata": {
      "needs_background": "light"
     },
     "output_type": "display_data"
    }
   ],
   "source": [
    "fig = plt.figure(figsize = (10,5))\n",
    "for i in range(mov_len):\n",
    "    fig.add_subplot(1,mov_len,i+1)\n",
    "    plt.imshow(input_mov[i,:,:].cpu().numpy(),cmap='Greys')"
   ]
  },
  {
   "cell_type": "code",
   "execution_count": 105,
   "metadata": {},
   "outputs": [
    {
     "data": {
      "image/png": "[encoded data removed]",
      "text/plain": [
       "<Figure size 864x288 with 16 Axes>"
      ]
     },
     "metadata": {
      "needs_background": "light"
     },
     "output_type": "display_data"
    }
   ],
   "source": [
    "fig = plt.figure(figsize = (12,4))\n",
    "for i in range(16):\n",
    "    fig.add_subplot(2,8,i+1)\n",
    "    plt.imshow((W_yF[1,2,i,:].cpu().numpy()).reshape(12,12),cmap='Greys')\n",
    "plt.savefig('W_yVisual1')"
   ]
  },
  {
   "cell_type": "code",
   "execution_count": 106,
   "metadata": {},
   "outputs": [
    {
     "data": {
      "image/png": "[encoded data removed]",
      "text/plain": [
       "<Figure size 864x288 with 16 Axes>"
      ]
     },
     "metadata": {
      "needs_background": "light"
     },
     "output_type": "display_data"
    }
   ],
   "source": [
    "fig = plt.figure(figsize = (12,4))\n",
    "for i in range(16):\n",
    "    fig.add_subplot(2,8,i+1)\n",
    "    plt.imshow((W_yF[1,3,i,:].cpu().numpy()).reshape(12,12),cmap='Greys')\n",
    "plt.savefig('W_yVisual2')"
   ]
  },
  {
   "cell_type": "code",
   "execution_count": 123,
   "metadata": {},
   "outputs": [],
   "source": [
    "def visZ(DAE, x, a,b,ix,k=1):\n",
    "    '''Visualize higher layer weight matrices. For each \"point\" in the RF of a neuron, will visualize the lower layer's RF's.\n",
    "    (a,b) are the Cartesian coordinates, while ix denotes the depth\n",
    "    '''\n",
    "    N,n1,d1,n2,d2,n3,d3, alpha, beta, gamma, eta, theta, p, S1, S2, S3, h = DAE.print_parms().values()\n",
    "    L1_dim = int((N+S1-n1)/S1) #one-sided: number of units\n",
    "    L2_dim = int((L1_dim + S2 - n2)/S2)\n",
    "    y,W_y,Q,t,z,W_z,z_bar,v,W_v,v_bar = x\n",
    "    \n",
    "    fig = plt.figure(figsize = (10,10))\n",
    "    WZ = W_z[a,b,ix].reshape(n2,n2,d1)\n",
    "    for i in range(n2):\n",
    "        for j in range(n2):\n",
    "            _,idx = torch.sort(WZ[i,j,:], descending = True)\n",
    "            fig.add_subplot(n2,n2,n2*i + j + 1)\n",
    "            plt.imshow((1/k*W_y[(S2*a+i), (S2*b+j), idx[:k],:]).sum(dim = 0).reshape(n1,n1).cpu().numpy(), cmap = 'Greys')\n",
    "            \n",
    "    return "
   ]
  },
  {
   "cell_type": "code",
   "execution_count": 129,
   "metadata": {},
   "outputs": [
    {
     "data": {
      "image/png": "[encoded data removed]",
      "text/plain": [
       "<Figure size 720x720 with 9 Axes>"
      ]
     },
     "metadata": {
      "needs_background": "light"
     },
     "output_type": "display_data"
    }
   ],
   "source": [
    "visZ(main, x_final2, 1,1,3,3)\n",
    "plt.savefig('W_zVisualAgg2')"
   ]
  },
  {
   "cell_type": "code",
   "execution_count": null,
   "metadata": {},
   "outputs": [],
   "source": [
    "a,b = 0,1\n",
    "k=3"
   ]
  },
  {
   "cell_type": "code",
   "execution_count": 73,
   "metadata": {},
   "outputs": [],
   "source": [
    "WZ = W_z[a,b,ix].reshape(n2,n2,d1)\n"
   ]
  },
  {
   "cell_type": "code",
   "execution_count": 75,
   "metadata": {},
   "outputs": [],
   "source": [
    "_,idx = torch.sort(WZ[i,j,:], descending = True)\n"
   ]
  },
  {
   "cell_type": "code",
   "execution_count": 81,
   "metadata": {},
   "outputs": [
    {
     "data": {
      "text/plain": [
       "torch.Size([3, 144])"
      ]
     },
     "execution_count": 81,
     "metadata": {},
     "output_type": "execute_result"
    }
   ],
   "source": [
    "(1/k*W_y[(S2*a+i), (S2*b+j), idx[:k],:]).shape"
   ]
  },
  {
   "cell_type": "code",
   "execution_count": 65,
   "metadata": {},
   "outputs": [
    {
     "name": "stderr",
     "output_type": "stream",
     "text": [
      "/home/shazoop/anaconda3/lib/python3.7/site-packages/ipykernel_launcher.py:11: MatplotlibDeprecationWarning: Adding an axes using the same arguments as a previous axes currently reuses the earlier instance.  In a future version, a new instance will always be created and returned.  Meanwhile, this warning can be suppressed, and the future behavior ensured, by passing a unique label to each axes instance.\n",
      "  # This is added back by InteractiveShellApp.init_path()\n"
     ]
    },
    {
     "ename": "NameError",
     "evalue": "name 'a' is not defined",
     "output_type": "error",
     "traceback": [
      "\u001b[0;31m---------------------------------------------------------------------------\u001b[0m",
      "\u001b[0;31mNameError\u001b[0m                                 Traceback (most recent call last)",
      "\u001b[0;32m<ipython-input-65-874684db2d25>\u001b[0m in \u001b[0;36m<module>\u001b[0;34m\u001b[0m\n\u001b[1;32m     10\u001b[0m         \u001b[0m_\u001b[0m\u001b[0;34m,\u001b[0m\u001b[0midx\u001b[0m \u001b[0;34m=\u001b[0m \u001b[0mtorch\u001b[0m\u001b[0;34m.\u001b[0m\u001b[0msort\u001b[0m\u001b[0;34m(\u001b[0m\u001b[0mWZ\u001b[0m\u001b[0;34m[\u001b[0m\u001b[0mi\u001b[0m\u001b[0;34m,\u001b[0m\u001b[0mj\u001b[0m\u001b[0;34m,\u001b[0m\u001b[0;34m:\u001b[0m\u001b[0;34m]\u001b[0m\u001b[0;34m,\u001b[0m \u001b[0mdescending\u001b[0m \u001b[0;34m=\u001b[0m \u001b[0;32mTrue\u001b[0m\u001b[0;34m)\u001b[0m\u001b[0;34m\u001b[0m\u001b[0;34m\u001b[0m\u001b[0m\n\u001b[1;32m     11\u001b[0m         \u001b[0mfig\u001b[0m\u001b[0;34m.\u001b[0m\u001b[0madd_subplot\u001b[0m\u001b[0;34m(\u001b[0m\u001b[0mn2\u001b[0m\u001b[0;34m,\u001b[0m\u001b[0mn2\u001b[0m\u001b[0;34m,\u001b[0m\u001b[0mn2\u001b[0m\u001b[0;34m*\u001b[0m\u001b[0mi\u001b[0m \u001b[0;34m+\u001b[0m \u001b[0mj\u001b[0m \u001b[0;34m+\u001b[0m \u001b[0;36m1\u001b[0m\u001b[0;34m)\u001b[0m\u001b[0;34m\u001b[0m\u001b[0;34m\u001b[0m\u001b[0m\n\u001b[0;32m---> 12\u001b[0;31m         \u001b[0mplt\u001b[0m\u001b[0;34m.\u001b[0m\u001b[0mimshow\u001b[0m\u001b[0;34m(\u001b[0m\u001b[0;36m1\u001b[0m\u001b[0;34m/\u001b[0m\u001b[0;36m3\u001b[0m\u001b[0;34m*\u001b[0m\u001b[0mW_y\u001b[0m\u001b[0;34m[\u001b[0m\u001b[0;34m(\u001b[0m\u001b[0mS2\u001b[0m\u001b[0;34m*\u001b[0m\u001b[0ma\u001b[0m\u001b[0;34m+\u001b[0m\u001b[0mi\u001b[0m\u001b[0;34m)\u001b[0m\u001b[0;34m,\u001b[0m \u001b[0;34m(\u001b[0m\u001b[0mS2\u001b[0m\u001b[0;34m*\u001b[0m\u001b[0mb\u001b[0m\u001b[0;34m+\u001b[0m\u001b[0mj\u001b[0m\u001b[0;34m)\u001b[0m\u001b[0;34m,\u001b[0m \u001b[0midx\u001b[0m\u001b[0;34m[\u001b[0m\u001b[0;34m:\u001b[0m\u001b[0;36m3\u001b[0m\u001b[0;34m]\u001b[0m\u001b[0;34m,\u001b[0m\u001b[0;34m:\u001b[0m\u001b[0;34m]\u001b[0m\u001b[0;34m.\u001b[0m\u001b[0msum\u001b[0m\u001b[0;34m(\u001b[0m\u001b[0;34m)\u001b[0m\u001b[0;34m.\u001b[0m\u001b[0mreshape\u001b[0m\u001b[0;34m(\u001b[0m\u001b[0mn1\u001b[0m\u001b[0;34m,\u001b[0m\u001b[0mn1\u001b[0m\u001b[0;34m)\u001b[0m\u001b[0;34m.\u001b[0m\u001b[0mcpu\u001b[0m\u001b[0;34m(\u001b[0m\u001b[0;34m)\u001b[0m\u001b[0;34m.\u001b[0m\u001b[0mnumpy\u001b[0m\u001b[0;34m(\u001b[0m\u001b[0;34m)\u001b[0m\u001b[0;34m,\u001b[0m \u001b[0mcmap\u001b[0m \u001b[0;34m=\u001b[0m \u001b[0;34m'Greys'\u001b[0m\u001b[0;34m)\u001b[0m\u001b[0;34m\u001b[0m\u001b[0;34m\u001b[0m\u001b[0m\n\u001b[0m",
      "\u001b[0;31mNameError\u001b[0m: name 'a' is not defined"
     ]
    }
   ],
   "source": [
    "N,n1,d1,n2,d2,n3,d3, alpha, beta, gamma, eta, theta, p, S1, S2, S3, h = main.print_parms().values()\n",
    "L1_dim = int((N+S1-n1)/S1) #one-sided: number of units\n",
    "L2_dim = int((L1_dim + S2 - n2)/S2)\n",
    "y,W_y,Q,t,z,W_z,z_bar,v,W_v,v_bar = x_final2\n",
    "\n",
    "fig = plt.figure(figsize = (10,10))\n",
    "WZ = W_z[a,b,ix].reshape(n2,n2,d1)\n",
    "for i in range(n2):\n",
    "    for j in range(n2):\n",
    "        _,ix = torch.sort(WZ[i,j,:], descending = True)\n",
    "        fig.add_subplot(n2,n2,n2*i + j + 1)\n",
    "        plt.imshow(1/k*W_y[(S2*a+i), (S2*b+j), ix[:k],:].sum().reshape(n1,n1).cpu().numpy(), cmap = 'Greys')\n"
   ]
  },
  {
   "cell_type": "code",
   "execution_count": 109,
   "metadata": {},
   "outputs": [],
   "source": [
    "def visZ(DAE, x, a,b,ix):\n",
    "    '''Visualize higher layer weight matrices. For each \"point\" in the RF of a neuron, will visualize the lower layer's RF's.\n",
    "    (a,b) are the Cartesian coordinates, while ix denotes the depth\n",
    "    '''\n",
    "    N,n1,d1,n2,d2,n3,d3, alpha, beta, gamma, eta, theta, p, S1, S2, S3, h = DAE.print_parms().values()\n",
    "    L1_dim = int((N+S1-n1)/S1) #one-sided: number of units\n",
    "    L2_dim = int((L1_dim + S2 - n2)/S2)\n",
    "    y,W_y,Q,t,z,W_z,z_bar,v,W_v,v_bar = x\n",
    "    \n",
    "    fig = plt.figure(figsize = (10,10))\n",
    "    WZ = W_z[a,b,ix].reshape(n2,n2,d1)\n",
    "    for i in range(n2):\n",
    "        for j in range(n2):\n",
    "            max_ix = torch.argmax(WZ[i,j,:])\n",
    "            fig.add_subplot(n2,n2,n2*i + j + 1)\n",
    "            plt.imshow(W_y[(S2*a+i), (S2*b+j), ix,:].reshape(n1,n1).cpu().numpy(), cmap = 'Greys')\n",
    "            \n",
    "    return "
   ]
  },
  {
   "cell_type": "code",
   "execution_count": 122,
   "metadata": {},
   "outputs": [
    {
     "data": {
      "image/png": "[encoded data removed]",
      "text/plain": [
       "<Figure size 720x720 with 9 Axes>"
      ]
     },
     "metadata": {
      "needs_background": "light"
     },
     "output_type": "display_data"
    }
   ],
   "source": [
    "out = visZ(main, x_final2, 1,1,2)\n",
    "plt.savefig('W_zVisual1_neighbor')"
   ]
  },
  {
   "cell_type": "code",
   "execution_count": 32,
   "metadata": {},
   "outputs": [
    {
     "data": {
      "image/png": "[encoded data removed]",
      "text/plain": [
       "<Figure size 432x288 with 9 Axes>"
      ]
     },
     "metadata": {
      "needs_background": "light"
     },
     "output_type": "display_data"
    }
   ],
   "source": [
    "fig2, ax2 = plt.subplots(3,3)"
   ]
  },
  {
   "cell_type": "code",
   "execution_count": 1458,
   "metadata": {},
   "outputs": [
    {
     "ename": "IndexError",
     "evalue": "index 9 is out of bounds for axis 0 with size 3",
     "output_type": "error",
     "traceback": [
      "\u001b[0;31m---------------------------------------------------------------------------\u001b[0m",
      "\u001b[0;31mIndexError\u001b[0m                                Traceback (most recent call last)",
      "\u001b[0;32m<ipython-input-1458-fe5c23f191fb>\u001b[0m in \u001b[0;36m<module>\u001b[0;34m\u001b[0m\n\u001b[0;32m----> 1\u001b[0;31m \u001b[0max2\u001b[0m\u001b[0;34m[\u001b[0m\u001b[0;36m9\u001b[0m\u001b[0;34m]\u001b[0m\u001b[0;34m\u001b[0m\u001b[0;34m\u001b[0m\u001b[0m\n\u001b[0m",
      "\u001b[0;31mIndexError\u001b[0m: index 9 is out of bounds for axis 0 with size 3"
     ]
    }
   ],
   "source": [
    "ax2[9]"
   ]
  },
  {
   "cell_type": "code",
   "execution_count": 1452,
   "metadata": {
    "scrolled": true
   },
   "outputs": [
    {
     "data": {
      "text/plain": [
       "tensor([0.8763, 0.3746, 0.2031, 0.8833, 0.6072, 0.6715, 0.7738, 0.7709, 0.1945,\n",
       "        0.9086, 0.2059, 0.6901, 0.1982, 0.0443, 0.2621, 0.8889])"
      ]
     },
     "execution_count": 1452,
     "metadata": {},
     "output_type": "execute_result"
    }
   ],
   "source": [
    "testW[1,1,:]"
   ]
  },
  {
   "cell_type": "code",
   "execution_count": 57,
   "metadata": {},
   "outputs": [
    {
     "data": {
      "image/png": "[encoded data removed]",
      "text/plain": [
       "<Figure size 864x288 with 16 Axes>"
      ]
     },
     "metadata": {
      "needs_background": "light"
     },
     "output_type": "display_data"
    }
   ],
   "source": [
    "fig = plt.figure(figsize = (12,4))\n",
    "for i in range(16):\n",
    "    fig.add_subplot(2,8,i+1)\n",
    "    plt.imshow((W_yF[1,1,i,:].cpu().numpy()).reshape(12,12),cmap='Greys')"
   ]
  },
  {
   "cell_type": "code",
   "execution_count": 60,
   "metadata": {},
   "outputs": [
    {
     "data": {
      "image/png": "[encoded data removed]",
      "text/plain": [
       "<Figure size 720x720 with 9 Axes>"
      ]
     },
     "metadata": {
      "needs_background": "light"
     },
     "output_type": "display_data"
    }
   ],
   "source": [
    "visZ(main, x_final2, 1,1,3)"
   ]
  },
  {
   "cell_type": "code",
   "execution_count": 58,
   "metadata": {
    "scrolled": false
   },
   "outputs": [
    {
     "ename": "RuntimeError",
     "evalue": "shape '[12, 12]' is invalid for input of size 1",
     "output_type": "error",
     "traceback": [
      "\u001b[0;31m---------------------------------------------------------------------------\u001b[0m",
      "\u001b[0;31mRuntimeError\u001b[0m                              Traceback (most recent call last)",
      "\u001b[0;32m<ipython-input-58-694780ae833c>\u001b[0m in \u001b[0;36m<module>\u001b[0;34m\u001b[0m\n\u001b[0;32m----> 1\u001b[0;31m \u001b[0mvisZ\u001b[0m\u001b[0;34m(\u001b[0m\u001b[0mmain\u001b[0m\u001b[0;34m,\u001b[0m \u001b[0mx_final2\u001b[0m\u001b[0;34m,\u001b[0m \u001b[0;36m1\u001b[0m\u001b[0;34m,\u001b[0m\u001b[0;36m1\u001b[0m\u001b[0;34m,\u001b[0m\u001b[0;36m3\u001b[0m\u001b[0;34m)\u001b[0m\u001b[0;34m\u001b[0m\u001b[0;34m\u001b[0m\u001b[0m\n\u001b[0m",
      "\u001b[0;32m<ipython-input-49-e226c47f125f>\u001b[0m in \u001b[0;36mvisZ\u001b[0;34m(DAE, x, a, b, ix, k)\u001b[0m\n\u001b[1;32m     14\u001b[0m             \u001b[0m_\u001b[0m\u001b[0;34m,\u001b[0m\u001b[0mix\u001b[0m \u001b[0;34m=\u001b[0m \u001b[0mtorch\u001b[0m\u001b[0;34m.\u001b[0m\u001b[0msort\u001b[0m\u001b[0;34m(\u001b[0m\u001b[0mWZ\u001b[0m\u001b[0;34m[\u001b[0m\u001b[0mi\u001b[0m\u001b[0;34m,\u001b[0m\u001b[0mj\u001b[0m\u001b[0;34m,\u001b[0m\u001b[0;34m:\u001b[0m\u001b[0;34m]\u001b[0m\u001b[0;34m,\u001b[0m \u001b[0mdescending\u001b[0m \u001b[0;34m=\u001b[0m \u001b[0;32mTrue\u001b[0m\u001b[0;34m)\u001b[0m\u001b[0;34m\u001b[0m\u001b[0;34m\u001b[0m\u001b[0m\n\u001b[1;32m     15\u001b[0m             \u001b[0mfig\u001b[0m\u001b[0;34m.\u001b[0m\u001b[0madd_subplot\u001b[0m\u001b[0;34m(\u001b[0m\u001b[0mn2\u001b[0m\u001b[0;34m,\u001b[0m\u001b[0mn2\u001b[0m\u001b[0;34m,\u001b[0m\u001b[0mn2\u001b[0m\u001b[0;34m*\u001b[0m\u001b[0mi\u001b[0m \u001b[0;34m+\u001b[0m \u001b[0mj\u001b[0m \u001b[0;34m+\u001b[0m \u001b[0;36m1\u001b[0m\u001b[0;34m)\u001b[0m\u001b[0;34m\u001b[0m\u001b[0;34m\u001b[0m\u001b[0m\n\u001b[0;32m---> 16\u001b[0;31m             \u001b[0mplt\u001b[0m\u001b[0;34m.\u001b[0m\u001b[0mimshow\u001b[0m\u001b[0;34m(\u001b[0m\u001b[0;36m1\u001b[0m\u001b[0;34m/\u001b[0m\u001b[0mk\u001b[0m\u001b[0;34m*\u001b[0m\u001b[0mW_y\u001b[0m\u001b[0;34m[\u001b[0m\u001b[0;34m(\u001b[0m\u001b[0mS2\u001b[0m\u001b[0;34m*\u001b[0m\u001b[0ma\u001b[0m\u001b[0;34m+\u001b[0m\u001b[0mi\u001b[0m\u001b[0;34m)\u001b[0m\u001b[0;34m,\u001b[0m \u001b[0;34m(\u001b[0m\u001b[0mS2\u001b[0m\u001b[0;34m*\u001b[0m\u001b[0mb\u001b[0m\u001b[0;34m+\u001b[0m\u001b[0mj\u001b[0m\u001b[0;34m)\u001b[0m\u001b[0;34m,\u001b[0m \u001b[0mix\u001b[0m\u001b[0;34m[\u001b[0m\u001b[0;34m:\u001b[0m\u001b[0mk\u001b[0m\u001b[0;34m]\u001b[0m\u001b[0;34m,\u001b[0m\u001b[0;34m:\u001b[0m\u001b[0;34m]\u001b[0m\u001b[0;34m.\u001b[0m\u001b[0msum\u001b[0m\u001b[0;34m(\u001b[0m\u001b[0;34m)\u001b[0m\u001b[0;34m.\u001b[0m\u001b[0mreshape\u001b[0m\u001b[0;34m(\u001b[0m\u001b[0mn1\u001b[0m\u001b[0;34m,\u001b[0m\u001b[0mn1\u001b[0m\u001b[0;34m)\u001b[0m\u001b[0;34m.\u001b[0m\u001b[0mcpu\u001b[0m\u001b[0;34m(\u001b[0m\u001b[0;34m)\u001b[0m\u001b[0;34m.\u001b[0m\u001b[0mnumpy\u001b[0m\u001b[0;34m(\u001b[0m\u001b[0;34m)\u001b[0m\u001b[0;34m,\u001b[0m \u001b[0mcmap\u001b[0m \u001b[0;34m=\u001b[0m \u001b[0;34m'Greys'\u001b[0m\u001b[0;34m)\u001b[0m\u001b[0;34m\u001b[0m\u001b[0;34m\u001b[0m\u001b[0m\n\u001b[0m\u001b[1;32m     17\u001b[0m \u001b[0;34m\u001b[0m\u001b[0m\n\u001b[1;32m     18\u001b[0m     \u001b[0;32mreturn\u001b[0m\u001b[0;34m\u001b[0m\u001b[0;34m\u001b[0m\u001b[0m\n",
      "\u001b[0;31mRuntimeError\u001b[0m: shape '[12, 12]' is invalid for input of size 1"
     ]
    },
    {
     "data": {
      "image/png": "[encoded data removed]",
      "text/plain": [
       "<Figure size 720x720 with 1 Axes>"
      ]
     },
     "metadata": {
      "needs_background": "light"
     },
     "output_type": "display_data"
    }
   ],
   "source": [
    "visZ(main, x_final2, 1,1,3)"
   ]
  },
  {
   "cell_type": "code",
   "execution_count": 1340,
   "metadata": {
    "scrolled": true
   },
   "outputs": [
    {
     "data": {
      "image/png": "[encoded data removed]",
      "text/plain": [
       "<Figure size 864x288 with 16 Axes>"
      ]
     },
     "metadata": {
      "needs_background": "light"
     },
     "output_type": "display_data"
    }
   ],
   "source": [
    "fig = plt.figure(figsize = (12,4))\n",
    "for i in range(16):\n",
    "    fig.add_subplot(2,8,i+1)\n",
    "    plt.imshow((W_yF[2,2,i,:].cpu().numpy()).reshape(12,12),cmap='Greys')"
   ]
  },
  {
   "cell_type": "code",
   "execution_count": 1237,
   "metadata": {},
   "outputs": [
    {
     "data": {
      "text/plain": [
       "<module 'FE_DAE' from '/home/shazoop/form-and-motion/EE219A/FE_DAE.py'>"
      ]
     },
     "execution_count": 1237,
     "metadata": {},
     "output_type": "execute_result"
    }
   ],
   "source": [
    "importlib.reload(fe)"
   ]
  },
  {
   "cell_type": "code",
   "execution_count": 1162,
   "metadata": {},
   "outputs": [
    {
     "data": {
      "text/plain": [
       "['Layer 1 has 25 units per layer, depth 16, and RF size: 12 by 12',\n",
       " 'Layer 2 has 9 units per layer, depth 16, and RF size: 3 by 3',\n",
       " 'Layer 3 has 4 units per layer, depth 32, and RF size: 2 by 2',\n",
       " 'Time step: 0.05 s']"
      ]
     },
     "execution_count": 1162,
     "metadata": {},
     "output_type": "execute_result"
    }
   ],
   "source": [
    "main = fe.FE_V1()\n",
    "main.summary()"
   ]
  },
  {
   "cell_type": "code",
   "execution_count": 1397,
   "metadata": {},
   "outputs": [],
   "source": [
    "xtest = main.x_init()\n",
    "y,W_y,Q,t,z,W_z,z_bar,v,W_v,v_bar = xtest\n",
    "yhold = torch.zeros_like(y).repeat(100,1,1,1)\n",
    "for i in range(100):\n",
    "    xtest = FE_solve(main, .05, 0, xtest, mov2u(data_mov[0]), Reset = 0,W_y = W_yF, Q = QF, t = tF, W_z = W_zF,W_v = W_vF)\n",
    "    y,W_y,Q,t,z,W_z,z_bar,v,W_v,v_bar = xtest\n",
    "    yhold[i,:,:,:] = y"
   ]
  },
  {
   "cell_type": "code",
   "execution_count": 1398,
   "metadata": {},
   "outputs": [
    {
     "data": {
      "text/plain": [
       "tensor([3.1228e-04, 3.3421e-04, 3.1772e-04, 6.4314e-01, 4.6911e-04, 3.1846e-04,\n",
       "        4.0829e-04, 3.2135e-04, 3.4299e-04, 3.6137e-04, 3.3555e-04, 3.7649e-04,\n",
       "        3.4240e-04, 3.1873e-04, 3.1739e-04, 3.9674e-04])"
      ]
     },
     "execution_count": 1398,
     "metadata": {},
     "output_type": "execute_result"
    }
   ],
   "source": [
    "yhold[99,3,3,:]"
   ]
  },
  {
   "cell_type": "code",
   "execution_count": 1399,
   "metadata": {},
   "outputs": [
    {
     "data": {
      "text/plain": [
       "tensor([0.0069, 0.0019, 0.0006, 0.0623, 0.0138, 0.4970, 0.0074, 0.0016, 0.1900,\n",
       "        0.0629, 0.0807, 0.0464, 0.0135, 0.0007, 0.0346, 0.0013])"
      ]
     },
     "execution_count": 1399,
     "metadata": {},
     "output_type": "execute_result"
    }
   ],
   "source": [
    "z[2,2,:]"
   ]
  },
  {
   "cell_type": "code",
   "execution_count": 948,
   "metadata": {},
   "outputs": [
    {
     "data": {
      "text/plain": [
       "<module 'FE_DAE' from '/home/shazoop/form-and-motion/EE219A/FE_DAE.py'>"
      ]
     },
     "execution_count": 948,
     "metadata": {},
     "output_type": "execute_result"
    }
   ],
   "source": [
    "importlib.reload(fe)"
   ]
  },
  {
   "cell_type": "code",
   "execution_count": 1294,
   "metadata": {},
   "outputs": [],
   "source": [
    "main = fe.FE_V1()\n",
    "main.summary()\n",
    "xtest = main.x_init()\n",
    "y,W_y,Q,t,z,W_z,z_bar,v,W_v,v_bar = x\n",
    "xtest = FE_movie(main,data_mov[3], 1, W_y = W_yF, Q = QF, t = tF, W_z = W_zF,W_v = W_vF)\n",
    "y,W_y,Q,t,z,W_z,z_bar,v,W_v,v_bar = xtest"
   ]
  },
  {
   "cell_type": "code",
   "execution_count": 1405,
   "metadata": {},
   "outputs": [],
   "source": [
    "N,n1,d1,n2,d2,n3,d3, alpha, beta, gamma, eta, theta, p, S1, S2, S3, h = main.print_parms().values()\n",
    "L1_dim = int((N+S1-n1)/S1) #one-sided: number of units\n",
    "L2_dim = int((L1_dim + S2 - n2)/S2)\n",
    "WZ = W_z.reshape(L2_dim,L2_dim, d2, n2,n2,d1)\n"
   ]
  },
  {
   "cell_type": "code",
   "execution_count": 1295,
   "metadata": {},
   "outputs": [
    {
     "data": {
      "image/png": "[encoded data removed]",
      "text/plain": [
       "<Figure size 720x360 with 3 Axes>"
      ]
     },
     "metadata": {
      "needs_background": "light"
     },
     "output_type": "display_data"
    }
   ],
   "source": [
    "fig = plt.figure(figsize = (10,5))\n",
    "for i in range(mov_len):\n",
    "    fig.add_subplot(1,mov_len,i+1)\n",
    "    plt.imshow(data_mov[3,i,:,:].cpu().numpy(),cmap='Greys')"
   ]
  },
  {
   "cell_type": "code",
   "execution_count": 202,
   "metadata": {},
   "outputs": [
    {
     "data": {
      "text/plain": [
       "tensor([0., 0., 0., 0., 0., 0.])"
      ]
     },
     "execution_count": 202,
     "metadata": {},
     "output_type": "execute_result"
    }
   ],
   "source": [
    "y[0,0,:]"
   ]
  },
  {
   "cell_type": "code",
   "execution_count": 214,
   "metadata": {},
   "outputs": [
    {
     "data": {
      "text/plain": [
       "tensor([[[0.1660, 0.1657, 0.1660, 0.1659, 0.1658, 0.1658],\n",
       "         [0.1741, 0.1740, 0.1740, 0.1742, 0.1743, 0.1740]],\n",
       "\n",
       "        [[0.1635, 0.1635, 0.1634, 0.1635, 0.1634, 0.1634],\n",
       "         [0.1685, 0.1688, 0.1686, 0.1686, 0.1687, 0.1687]]])"
      ]
     },
     "execution_count": 214,
     "metadata": {},
     "output_type": "execute_result"
    }
   ],
   "source": [
    "z"
   ]
  },
  {
   "cell_type": "code",
   "execution_count": 215,
   "metadata": {},
   "outputs": [
    {
     "data": {
      "text/plain": [
       "tensor([[[[0.0566, 0.1467, 0.0576,  ..., 0.1109, 0.1643, 0.1376],\n",
       "          [0.0568, 0.1469, 0.0578,  ..., 0.1105, 0.1642, 0.1369],\n",
       "          [0.0564, 0.1466, 0.0575,  ..., 0.1108, 0.1641, 0.1376],\n",
       "          [0.0565, 0.1467, 0.0574,  ..., 0.1109, 0.1644, 0.1377],\n",
       "          [0.0567, 0.1471, 0.0575,  ..., 0.1107, 0.1642, 0.1374],\n",
       "          [0.0565, 0.1469, 0.0577,  ..., 0.1108, 0.1645, 0.1374]],\n",
       "\n",
       "         [[0.0829, 0.0698, 0.0802,  ..., 0.0724, 0.1058, 0.0814],\n",
       "          [0.0830, 0.0695, 0.0803,  ..., 0.0723, 0.1055, 0.0814],\n",
       "          [0.0827, 0.0699, 0.0805,  ..., 0.0724, 0.1056, 0.0816],\n",
       "          [0.0824, 0.0696, 0.0800,  ..., 0.0726, 0.1056, 0.0814],\n",
       "          [0.0826, 0.0696, 0.0802,  ..., 0.0723, 0.1058, 0.0817],\n",
       "          [0.0833, 0.0698, 0.0805,  ..., 0.0722, 0.1054, 0.0815]]],\n",
       "\n",
       "\n",
       "        [[[0.1733, 0.0628, 0.0854,  ..., 0.1245, 0.0968, 0.1285],\n",
       "          [0.1731, 0.0627, 0.0858,  ..., 0.1246, 0.0969, 0.1279],\n",
       "          [0.1732, 0.0628, 0.0856,  ..., 0.1248, 0.0970, 0.1282],\n",
       "          [0.1731, 0.0628, 0.0855,  ..., 0.1245, 0.0968, 0.1287],\n",
       "          [0.1732, 0.0628, 0.0857,  ..., 0.1248, 0.0969, 0.1280],\n",
       "          [0.1732, 0.0628, 0.0859,  ..., 0.1247, 0.0968, 0.1278]],\n",
       "\n",
       "         [[0.1415, 0.1470, 0.1240,  ..., 0.0503, 0.0555, 0.1706],\n",
       "          [0.1417, 0.1461, 0.1234,  ..., 0.0507, 0.0556, 0.1712],\n",
       "          [0.1415, 0.1467, 0.1239,  ..., 0.0504, 0.0555, 0.1708],\n",
       "          [0.1416, 0.1471, 0.1239,  ..., 0.0503, 0.0553, 0.1706],\n",
       "          [0.1417, 0.1461, 0.1233,  ..., 0.0507, 0.0558, 0.1711],\n",
       "          [0.1417, 0.1467, 0.1236,  ..., 0.0504, 0.0555, 0.1709]]]])"
      ]
     },
     "execution_count": 215,
     "metadata": {},
     "output_type": "execute_result"
    }
   ],
   "source": [
    "W_zF"
   ]
  },
  {
   "cell_type": "code",
   "execution_count": null,
   "metadata": {},
   "outputs": [],
   "source": []
  }
 ],
 "metadata": {
  "kernelspec": {
   "display_name": "Python 3",
   "language": "python",
   "name": "python3"
  },
  "language_info": {
   "codemirror_mode": {
    "name": "ipython",
    "version": 3
   },
   "file_extension": ".py",
   "mimetype": "text/x-python",
   "name": "python",
   "nbconvert_exporter": "python",
   "pygments_lexer": "ipython3",
   "version": "3.7.3"
  }
 },
 "nbformat": 4,
 "nbformat_minor": 2
}
