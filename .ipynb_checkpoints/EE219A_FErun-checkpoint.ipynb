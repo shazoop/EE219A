{
 "cells": [
  {
   "cell_type": "code",
   "execution_count": 1,
   "metadata": {},
   "outputs": [],
   "source": [
    "import numpy as np\n",
    "import matplotlib.pyplot as plt\n",
    "import torch\n",
    "import FE_DAE as fe\n",
    "from FE_DAEsolver import *\n",
    "from data_generator import *\n",
    "import importlib\n",
    "import cv2"
   ]
  },
  {
   "cell_type": "code",
   "execution_count": 2,
   "metadata": {},
   "outputs": [
    {
     "data": {
      "text/plain": [
       "<module 'FE_DAE' from '/home/shazoop/form-and-motion/EE219A/FE_DAE.py'>"
      ]
     },
     "execution_count": 2,
     "metadata": {},
     "output_type": "execute_result"
    }
   ],
   "source": [
    "importlib.reload(fe)"
   ]
  },
  {
   "cell_type": "code",
   "execution_count": 3,
   "metadata": {},
   "outputs": [],
   "source": [
    "torch.cuda.set_device(1) #use GPU 1"
   ]
  },
  {
   "cell_type": "code",
   "execution_count": 4,
   "metadata": {},
   "outputs": [],
   "source": [
    "import torchvision\n",
    "import torchvision.datasets as datasets\n",
    "#Download MNIST\n",
    "mnist_trainset = datasets.MNIST(root='./data', train=True, download=True, transform=None)\n",
    "\n",
    "#Load\n",
    "#mnist_trainset = datasets.MNIST(root='./data', train=True, download=False, transform=None)"
   ]
  },
  {
   "cell_type": "code",
   "execution_count": 5,
   "metadata": {},
   "outputs": [],
   "source": [
    "torch.set_default_tensor_type('torch.cuda.FloatTensor')\n",
    "torch.cuda.set_device(0) #use GPU 1"
   ]
  },
  {
   "cell_type": "code",
   "execution_count": 6,
   "metadata": {},
   "outputs": [],
   "source": [
    "data_load = torch.utils.data.DataLoader(mnist_trainset, shuffle = True)"
   ]
  },
  {
   "cell_type": "code",
   "execution_count": 989,
   "metadata": {},
   "outputs": [],
   "source": [
    "mov_len = 3"
   ]
  },
  {
   "cell_type": "code",
   "execution_count": 990,
   "metadata": {},
   "outputs": [],
   "source": [
    "images = data_load.dataset.data[0:1000].numpy()\n",
    "M = rand_trans(images, 1, 3)\n",
    "data_mov = torch.from_numpy(image_gen(images,M, mov_len)).float().cuda()\n",
    "data_mov = data_mov/255"
   ]
  },
  {
   "cell_type": "code",
   "execution_count": 991,
   "metadata": {},
   "outputs": [
    {
     "data": {
      "image/png": "[encoded data removed]",
      "text/plain": [
       "<Figure size 216x360 with 3 Axes>"
      ]
     },
     "metadata": {
      "needs_background": "light"
     },
     "output_type": "display_data"
    }
   ],
   "source": [
    "ix = 15\n",
    "fig = plt.figure(figsize = (mov_len,5))\n",
    "for i in range(mov_len):\n",
    "    fig.add_subplot(1,mov_len,i+1)\n",
    "    plt.imshow(data_mov[ix,i,:,:].cpu().numpy(),cmap='Greys')"
   ]
  },
  {
   "cell_type": "code",
   "execution_count": 1226,
   "metadata": {},
   "outputs": [
    {
     "data": {
      "text/plain": [
       "<module 'FE_DAE' from '/home/shazoop/form-and-motion/EE219A/FE_DAE.py'>"
      ]
     },
     "execution_count": 1226,
     "metadata": {},
     "output_type": "execute_result"
    }
   ],
   "source": [
    "importlib.reload(fe)"
   ]
  },
  {
   "cell_type": "code",
   "execution_count": 1227,
   "metadata": {},
   "outputs": [
    {
     "data": {
      "text/plain": [
       "['Layer 1 has 25 units per layer, depth 16, and RF size: 12 by 12',\n",
       " 'Layer 2 has 9 units per layer, depth 16, and RF size: 3 by 3',\n",
       " 'Layer 3 has 4 units per layer, depth 32, and RF size: 2 by 2',\n",
       " 'Time step: 0.05 s']"
      ]
     },
     "execution_count": 1227,
     "metadata": {},
     "output_type": "execute_result"
    }
   ],
   "source": [
    "main = fe.FE_V1()\n",
    "main.summary()"
   ]
  },
  {
   "cell_type": "code",
   "execution_count": 1228,
   "metadata": {},
   "outputs": [
    {
     "data": {
      "text/plain": [
       "{'pixel dim': 28,\n",
       " 'RF 1 dim': 12,\n",
       " 'layer1 depth': 16,\n",
       " 'RF 2 dim': 3,\n",
       " 'layer 2 depth': 16,\n",
       " 'RF 3 dim': 2,\n",
       " 'layer 3 depth': 32,\n",
       " 'L1Hebb': 3e-06,\n",
       " 'L1AntiH': 0.01,\n",
       " 'L1thresh': 3e-06,\n",
       " 'L2Hebb': 5e-06,\n",
       " 'L3Hebb': 8e-06,\n",
       " 'L1prob': 0.125,\n",
       " 'L1 stride': 4,\n",
       " 'L2 stride': 1,\n",
       " 'L3 stride': 1,\n",
       " 'time step': 0.05}"
      ]
     },
     "execution_count": 1228,
     "metadata": {},
     "output_type": "execute_result"
    }
   ],
   "source": [
    "main.print_parms()"
   ]
  },
  {
   "cell_type": "code",
   "execution_count": 1238,
   "metadata": {},
   "outputs": [],
   "source": [
    "x = main.x_init()\n",
    "y,W_y,Q,t,z,W_z,z_bar,v,W_v,v_bar = x"
   ]
  },
  {
   "cell_type": "code",
   "execution_count": 1246,
   "metadata": {
    "scrolled": true
   },
   "outputs": [
    {
     "name": "stdout",
     "output_type": "stream",
     "text": [
      "Step: 0\n",
      "Step: 100\n",
      "Step: 200\n",
      "Step: 300\n",
      "Step: 400\n",
      "Step: 500\n",
      "Step: 600\n",
      "Step: 700\n",
      "Step: 800\n",
      "Step: 900\n",
      "Step: 1000\n",
      "Step: 1100\n",
      "Step: 1200\n",
      "Step: 1300\n",
      "Step: 1400\n",
      "Step: 1500\n",
      "Step: 1600\n",
      "Step: 1700\n",
      "Step: 1800\n",
      "Step: 1900\n",
      "Step: 1999\r"
     ]
    }
   ],
   "source": [
    "trainSteps = 2000\n",
    "for train in range(trainSteps):\n",
    "    input_mov = data_mov[int(np.random.randint(0,data_mov.size(0),1))] #select a random movie sequence\n",
    "    x = FE_movie(main,input_mov, 3, W_y = W_y, Q = Q, t = t, W_z = W_z,W_v = W_v)\n",
    "    y,W_y,Q,t,z,W_z,z_bar,v,W_v,v_bar = x\n",
    "    if train % 100 == 0:\n",
    "        print('Step: %s' % train)\n",
    "    else:\n",
    "        print('Step: %s' % train, end = '\\r')"
   ]
  },
  {
   "cell_type": "code",
   "execution_count": 1255,
   "metadata": {},
   "outputs": [],
   "source": [
    "x_final = x\n",
    "yF,W_yF,QF,tF,zF,W_zF,z_barF,vF,W_vF,v_barF = x_final\n"
   ]
  },
  {
   "cell_type": "code",
   "execution_count": 1248,
   "metadata": {},
   "outputs": [
    {
     "data": {
      "text/plain": [
       "tensor([4.1818e-06, 4.1823e-06, 9.9756e-01, 4.1822e-06, 4.1816e-06, 4.1820e-06,\n",
       "        4.1827e-06, 4.1821e-06, 4.1804e-06, 4.3099e-06, 4.1825e-06, 4.1821e-06,\n",
       "        4.1819e-06, 4.1828e-06, 4.1822e-06, 4.1826e-06])"
      ]
     },
     "execution_count": 1248,
     "metadata": {},
     "output_type": "execute_result"
    }
   ],
   "source": [
    "yF[2,0,:]"
   ]
  },
  {
   "cell_type": "code",
   "execution_count": 1249,
   "metadata": {},
   "outputs": [
    {
     "data": {
      "text/plain": [
       "tensor([1.5516e-05, 8.2325e-01, 9.6345e-06, 5.1737e-04, 6.2359e-05, 5.6318e-05,\n",
       "        5.5165e-05, 1.0685e-03, 5.1863e-05, 8.4321e-05, 7.3935e-04, 5.1604e-05,\n",
       "        8.1249e-05, 4.2098e-01, 1.0965e-05, 2.0332e-02])"
      ]
     },
     "execution_count": 1249,
     "metadata": {},
     "output_type": "execute_result"
    }
   ],
   "source": [
    "zF[0,0,:]"
   ]
  },
  {
   "cell_type": "code",
   "execution_count": 1250,
   "metadata": {},
   "outputs": [
    {
     "data": {
      "image/png": "[encoded data removed]",
      "text/plain": [
       "<Figure size 720x360 with 3 Axes>"
      ]
     },
     "metadata": {
      "needs_background": "light"
     },
     "output_type": "display_data"
    }
   ],
   "source": [
    "fig = plt.figure(figsize = (10,5))\n",
    "for i in range(mov_len):\n",
    "    fig.add_subplot(1,mov_len,i+1)\n",
    "    plt.imshow(input_mov[i,:,:].cpu().numpy(),cmap='Greys')"
   ]
  },
  {
   "cell_type": "code",
   "execution_count": 1258,
   "metadata": {},
   "outputs": [
    {
     "data": {
      "text/plain": [
       "tensor([1.5516e-05, 8.2325e-01, 9.6345e-06, 5.1737e-04, 6.2359e-05, 5.6318e-05,\n",
       "        5.5165e-05, 1.0685e-03, 5.1863e-05, 8.4321e-05, 7.3935e-04, 5.1604e-05,\n",
       "        8.1249e-05, 4.2098e-01, 1.0965e-05, 2.0332e-02])"
      ]
     },
     "execution_count": 1258,
     "metadata": {},
     "output_type": "execute_result"
    }
   ],
   "source": [
    "z[0,0,:]"
   ]
  },
  {
   "cell_type": "code",
   "execution_count": 1256,
   "metadata": {},
   "outputs": [
    {
     "data": {
      "image/png": "[encoded data removed]",
      "text/plain": [
       "<Figure size 864x288 with 16 Axes>"
      ]
     },
     "metadata": {
      "needs_background": "light"
     },
     "output_type": "display_data"
    }
   ],
   "source": [
    "fig = plt.figure(figsize = (12,4))\n",
    "for i in range(16):\n",
    "    fig.add_subplot(2,8,i+1)\n",
    "    plt.imshow((W_yF[3,2,i,:].cpu().numpy()).reshape(12,12),cmap='Greys')"
   ]
  },
  {
   "cell_type": "code",
   "execution_count": 1252,
   "metadata": {},
   "outputs": [
    {
     "data": {
      "image/png": "[encoded data removed]",
      "text/plain": [
       "<Figure size 864x288 with 16 Axes>"
      ]
     },
     "metadata": {
      "needs_background": "light"
     },
     "output_type": "display_data"
    }
   ],
   "source": [
    "fig = plt.figure(figsize = (12,4))\n",
    "for i in range(16):\n",
    "    fig.add_subplot(2,8,i+1)\n",
    "    plt.imshow((W_yF[2,2,i,:].cpu().numpy()).reshape(12,12),cmap='Greys')"
   ]
  },
  {
   "cell_type": "code",
   "execution_count": 1237,
   "metadata": {},
   "outputs": [
    {
     "data": {
      "text/plain": [
       "<module 'FE_DAE' from '/home/shazoop/form-and-motion/EE219A/FE_DAE.py'>"
      ]
     },
     "execution_count": 1237,
     "metadata": {},
     "output_type": "execute_result"
    }
   ],
   "source": [
    "importlib.reload(fe)"
   ]
  },
  {
   "cell_type": "code",
   "execution_count": 1162,
   "metadata": {},
   "outputs": [
    {
     "data": {
      "text/plain": [
       "['Layer 1 has 25 units per layer, depth 16, and RF size: 12 by 12',\n",
       " 'Layer 2 has 9 units per layer, depth 16, and RF size: 3 by 3',\n",
       " 'Layer 3 has 4 units per layer, depth 32, and RF size: 2 by 2',\n",
       " 'Time step: 0.05 s']"
      ]
     },
     "execution_count": 1162,
     "metadata": {},
     "output_type": "execute_result"
    }
   ],
   "source": [
    "main = fe.FE_V1()\n",
    "main.summary()"
   ]
  },
  {
   "cell_type": "code",
   "execution_count": 1163,
   "metadata": {},
   "outputs": [],
   "source": [
    "xtest = main.x_init()\n",
    "y,W_y,Q,t,z,W_z,z_bar,v,W_v,v_bar = x\n",
    "yhold = torch.zeros_like(y).repeat(40,1,1,1)\n",
    "for i in range(40):\n",
    "    x = FE_solve(main, .05, 0, x, mov2u(data_mov[0]), Reset = 1,W_y = W_yF, Q = QF, t = tF, W_z = W_zF,W_v = W_vF)\n",
    "    y,W_y,Q,t,z,W_z,z_bar,v,W_v,v_bar = x\n",
    "    yhold[i,:,:,:] = y"
   ]
  },
  {
   "cell_type": "code",
   "execution_count": 1166,
   "metadata": {},
   "outputs": [
    {
     "data": {
      "text/plain": [
       "tensor([0.2208, 0.2208, 0.2208, 0.2208, 0.2208, 0.2208, 0.2208, 0.2208, 0.2208,\n",
       "        0.2208, 0.2208, 0.2208, 0.2208, 0.2208, 0.2208, 0.2208, 0.2208, 0.2208,\n",
       "        0.2208, 0.2208, 0.2208, 0.2208, 0.2208, 0.2208, 0.2208, 0.2208, 0.2208,\n",
       "        0.2208, 0.2208, 0.2208, 0.2208, 0.2208, 0.2208, 0.2208, 0.2208, 0.2208,\n",
       "        0.2208, 0.2208, 0.2208, 0.2208])"
      ]
     },
     "execution_count": 1166,
     "metadata": {},
     "output_type": "execute_result"
    }
   ],
   "source": [
    "yhold[:,2,0,0]"
   ]
  },
  {
   "cell_type": "code",
   "execution_count": 1165,
   "metadata": {},
   "outputs": [
    {
     "data": {
      "text/plain": [
       "tensor([[[0.0567, 0.0567, 0.0567, 0.0567, 0.0567, 0.0567, 0.0567, 0.0567,\n",
       "          0.0567, 0.0567, 0.0567, 0.0567, 0.0567, 0.0567, 0.0567, 0.0567],\n",
       "         [0.0567, 0.0567, 0.0567, 0.0567, 0.0567, 0.0567, 0.0567, 0.0567,\n",
       "          0.0567, 0.0567, 0.0567, 0.0567, 0.0567, 0.0567, 0.0567, 0.0567],\n",
       "         [0.0567, 0.0567, 0.0567, 0.0567, 0.0567, 0.0567, 0.0567, 0.0567,\n",
       "          0.0567, 0.0567, 0.0567, 0.0567, 0.0567, 0.0567, 0.0567, 0.0567]],\n",
       "\n",
       "        [[0.0567, 0.0567, 0.0567, 0.0567, 0.0567, 0.0567, 0.0567, 0.0567,\n",
       "          0.0567, 0.0567, 0.0567, 0.0567, 0.0567, 0.0567, 0.0567, 0.0567],\n",
       "         [0.0567, 0.0567, 0.0567, 0.0567, 0.0567, 0.0567, 0.0567, 0.0567,\n",
       "          0.0567, 0.0567, 0.0567, 0.0567, 0.0567, 0.0567, 0.0567, 0.0567],\n",
       "         [0.0567, 0.0567, 0.0567, 0.0567, 0.0567, 0.0567, 0.0567, 0.0567,\n",
       "          0.0567, 0.0567, 0.0567, 0.0567, 0.0567, 0.0567, 0.0567, 0.0567]],\n",
       "\n",
       "        [[0.0567, 0.0567, 0.0567, 0.0567, 0.0567, 0.0567, 0.0567, 0.0567,\n",
       "          0.0567, 0.0567, 0.0567, 0.0567, 0.0567, 0.0567, 0.0567, 0.0567],\n",
       "         [0.0567, 0.0567, 0.0567, 0.0567, 0.0567, 0.0567, 0.0567, 0.0567,\n",
       "          0.0567, 0.0567, 0.0567, 0.0567, 0.0567, 0.0567, 0.0567, 0.0567],\n",
       "         [0.0567, 0.0567, 0.0567, 0.0567, 0.0567, 0.0567, 0.0567, 0.0567,\n",
       "          0.0567, 0.0567, 0.0567, 0.0567, 0.0567, 0.0567, 0.0567, 0.0567]]])"
      ]
     },
     "execution_count": 1165,
     "metadata": {},
     "output_type": "execute_result"
    }
   ],
   "source": [
    "z"
   ]
  },
  {
   "cell_type": "code",
   "execution_count": 948,
   "metadata": {},
   "outputs": [
    {
     "data": {
      "text/plain": [
       "<module 'FE_DAE' from '/home/shazoop/form-and-motion/EE219A/FE_DAE.py'>"
      ]
     },
     "execution_count": 948,
     "metadata": {},
     "output_type": "execute_result"
    }
   ],
   "source": [
    "importlib.reload(fe)"
   ]
  },
  {
   "cell_type": "code",
   "execution_count": 949,
   "metadata": {},
   "outputs": [],
   "source": [
    "main = fe.FE_V1()\n",
    "main.summary()\n",
    "xtest = main.x_init()\n",
    "y,W_y,Q,t,z,W_z,z_bar,v,W_v,v_bar = x\n",
    "xtest = FE_movie(main,data_mov[3], 1, W_y = W_yF, Q = QF, t = tF, W_z = W_zF,W_v = W_vF)\n",
    "y,W_y,Q,t,z,W_z,z_bar,v,W_v,v_bar = xtest"
   ]
  },
  {
   "cell_type": "code",
   "execution_count": 950,
   "metadata": {},
   "outputs": [
    {
     "data": {
      "image/png": "[encoded data removed]",
      "text/plain": [
       "<Figure size 720x360 with 5 Axes>"
      ]
     },
     "metadata": {
      "needs_background": "light"
     },
     "output_type": "display_data"
    }
   ],
   "source": [
    "fig = plt.figure(figsize = (10,5))\n",
    "for i in range(mov_len):\n",
    "    fig.add_subplot(1,mov_len,i+1)\n",
    "    plt.imshow(data_mov[3,i,:,:].cpu().numpy(),cmap='Greys')"
   ]
  },
  {
   "cell_type": "code",
   "execution_count": 202,
   "metadata": {},
   "outputs": [
    {
     "data": {
      "text/plain": [
       "tensor([0., 0., 0., 0., 0., 0.])"
      ]
     },
     "execution_count": 202,
     "metadata": {},
     "output_type": "execute_result"
    }
   ],
   "source": [
    "y[0,0,:]"
   ]
  },
  {
   "cell_type": "code",
   "execution_count": 214,
   "metadata": {},
   "outputs": [
    {
     "data": {
      "text/plain": [
       "tensor([[[0.1660, 0.1657, 0.1660, 0.1659, 0.1658, 0.1658],\n",
       "         [0.1741, 0.1740, 0.1740, 0.1742, 0.1743, 0.1740]],\n",
       "\n",
       "        [[0.1635, 0.1635, 0.1634, 0.1635, 0.1634, 0.1634],\n",
       "         [0.1685, 0.1688, 0.1686, 0.1686, 0.1687, 0.1687]]])"
      ]
     },
     "execution_count": 214,
     "metadata": {},
     "output_type": "execute_result"
    }
   ],
   "source": [
    "z"
   ]
  },
  {
   "cell_type": "code",
   "execution_count": 215,
   "metadata": {},
   "outputs": [
    {
     "data": {
      "text/plain": [
       "tensor([[[[0.0566, 0.1467, 0.0576,  ..., 0.1109, 0.1643, 0.1376],\n",
       "          [0.0568, 0.1469, 0.0578,  ..., 0.1105, 0.1642, 0.1369],\n",
       "          [0.0564, 0.1466, 0.0575,  ..., 0.1108, 0.1641, 0.1376],\n",
       "          [0.0565, 0.1467, 0.0574,  ..., 0.1109, 0.1644, 0.1377],\n",
       "          [0.0567, 0.1471, 0.0575,  ..., 0.1107, 0.1642, 0.1374],\n",
       "          [0.0565, 0.1469, 0.0577,  ..., 0.1108, 0.1645, 0.1374]],\n",
       "\n",
       "         [[0.0829, 0.0698, 0.0802,  ..., 0.0724, 0.1058, 0.0814],\n",
       "          [0.0830, 0.0695, 0.0803,  ..., 0.0723, 0.1055, 0.0814],\n",
       "          [0.0827, 0.0699, 0.0805,  ..., 0.0724, 0.1056, 0.0816],\n",
       "          [0.0824, 0.0696, 0.0800,  ..., 0.0726, 0.1056, 0.0814],\n",
       "          [0.0826, 0.0696, 0.0802,  ..., 0.0723, 0.1058, 0.0817],\n",
       "          [0.0833, 0.0698, 0.0805,  ..., 0.0722, 0.1054, 0.0815]]],\n",
       "\n",
       "\n",
       "        [[[0.1733, 0.0628, 0.0854,  ..., 0.1245, 0.0968, 0.1285],\n",
       "          [0.1731, 0.0627, 0.0858,  ..., 0.1246, 0.0969, 0.1279],\n",
       "          [0.1732, 0.0628, 0.0856,  ..., 0.1248, 0.0970, 0.1282],\n",
       "          [0.1731, 0.0628, 0.0855,  ..., 0.1245, 0.0968, 0.1287],\n",
       "          [0.1732, 0.0628, 0.0857,  ..., 0.1248, 0.0969, 0.1280],\n",
       "          [0.1732, 0.0628, 0.0859,  ..., 0.1247, 0.0968, 0.1278]],\n",
       "\n",
       "         [[0.1415, 0.1470, 0.1240,  ..., 0.0503, 0.0555, 0.1706],\n",
       "          [0.1417, 0.1461, 0.1234,  ..., 0.0507, 0.0556, 0.1712],\n",
       "          [0.1415, 0.1467, 0.1239,  ..., 0.0504, 0.0555, 0.1708],\n",
       "          [0.1416, 0.1471, 0.1239,  ..., 0.0503, 0.0553, 0.1706],\n",
       "          [0.1417, 0.1461, 0.1233,  ..., 0.0507, 0.0558, 0.1711],\n",
       "          [0.1417, 0.1467, 0.1236,  ..., 0.0504, 0.0555, 0.1709]]]])"
      ]
     },
     "execution_count": 215,
     "metadata": {},
     "output_type": "execute_result"
    }
   ],
   "source": [
    "W_zF"
   ]
  },
  {
   "cell_type": "code",
   "execution_count": null,
   "metadata": {},
   "outputs": [],
   "source": []
  }
 ],
 "metadata": {
  "kernelspec": {
   "display_name": "Python 3",
   "language": "python",
   "name": "python3"
  },
  "language_info": {
   "codemirror_mode": {
    "name": "ipython",
    "version": 3
   },
   "file_extension": ".py",
   "mimetype": "text/x-python",
   "name": "python",
   "nbconvert_exporter": "python",
   "pygments_lexer": "ipython3",
   "version": "3.7.3"
  }
 },
 "nbformat": 4,
 "nbformat_minor": 2
}
