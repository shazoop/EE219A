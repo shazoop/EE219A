{
 "cells": [
  {
   "cell_type": "code",
   "execution_count": 2,
   "metadata": {},
   "outputs": [],
   "source": [
    "import torch\n",
    "import matplotlib.pyplot as plt\n",
    "import numpy as np"
   ]
  },
  {
   "cell_type": "code",
   "execution_count": 3,
   "metadata": {},
   "outputs": [],
   "source": [
    "def visZ(DAE, a,b,ix):\n",
    "    '''Visualize higher layer weight matrices. For each \"point\" in the RF of a neuron, will visualize the lower layer's RF's.\n",
    "    (a,b) are the Cartesian coordinates, while ix denotes the depth\n",
    "    '''\n",
    "    N,n1,d1,n2,d2,n3,d3, alpha, beta, gamma, eta, theta, p, S1, S2, S3, h = DAE.print_parms().values()\n",
    "    L1_dim = int((N+S1-n1)/S1) #one-sided: number of units\n",
    "    L2_dim = int((L1_dim + S2 - n2)/S2)\n",
    "    y,W_y,Q,t,z,W_z,z_bar,v,W_v,v_bar = x\n",
    "    \n",
    "    fig = f()\n",
    "    WZ = W_z[a,b,ix].reshape(n2,n2,d1)\n",
    "    for i in range(n2):\n",
    "        for j in range(n2):\n",
    "            max_ix = torch.argmax(WZ[i,j,:])\n",
    "            fig.add_subplot(n2,n2,n2*i + j + 1)\n",
    "            plt.imshow(W[(S2*a+i), (S2*b+j), ix,:].reshape(n1,n1).cpu().numpy(), cmap = 'Greys')\n",
    "            \n",
    "    plt.show()\n",
    "    return fig\n",
    "\n",
    "    \n",
    "\n",
    "    "
   ]
  },
  {
   "cell_type": "code",
   "execution_count": null,
   "metadata": {},
   "outputs": [],
   "source": [
    "def runPlot(DAE, x):\n",
    "    '''x should be a list of length T of outputs (list of lists).\n",
    "    '''\n",
    "    N,n1,d1,n2,d2,n3,d3, alpha, beta, gamma, eta, theta, p, S1, S2, S3, h = DAE.print_parms().values()\n",
    "    T = len(x)\n",
    "    \n",
    "    \n"
   ]
  }
 ],
 "metadata": {
  "kernelspec": {
   "display_name": "Python 3",
   "language": "python",
   "name": "python3"
  },
  "language_info": {
   "codemirror_mode": {
    "name": "ipython",
    "version": 3
   },
   "file_extension": ".py",
   "mimetype": "text/x-python",
   "name": "python",
   "nbconvert_exporter": "python",
   "pygments_lexer": "ipython3",
   "version": "3.7.3"
  }
 },
 "nbformat": 4,
 "nbformat_minor": 2
}
