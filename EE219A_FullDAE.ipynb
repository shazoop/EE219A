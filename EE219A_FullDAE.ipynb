{
 "cells": [
  {
   "cell_type": "code",
   "execution_count": 1144,
   "metadata": {},
   "outputs": [],
   "source": [
    "import matplotlib.pyplot as plt\n",
    "import math\n",
    "import torch\n",
    "import V1_DAE as V1\n",
    "import V1_DAE_v2 as V2\n",
    "import NR\n",
    "import importlib\n",
    "import FitzNag as FN\n",
    "import DAE_solver as DS\n",
    "from data_generator import *\n",
    "import torchvision\n",
    "import torchvision.datasets as datasets"
   ]
  },
  {
   "cell_type": "code",
   "execution_count": 641,
   "metadata": {},
   "outputs": [],
   "source": [
    "torch.set_default_tensor_type('torch.cuda.FloatTensor')\n",
    "torch.cuda.set_device(0) #use GPU 1"
   ]
  },
  {
   "cell_type": "code",
   "execution_count": 642,
   "metadata": {},
   "outputs": [],
   "source": [
    "#Load MNIST\n",
    "mnist_trainset = datasets.MNIST(root='./data', train=True, download=True, transform=None)\n",
    "data_load = torch.utils.data.DataLoader(mnist_trainset, shuffle = True)"
   ]
  },
  {
   "cell_type": "code",
   "execution_count": 643,
   "metadata": {},
   "outputs": [],
   "source": [
    "mov_len = 5\n",
    "images = data_load.dataset.data[0:1000].numpy()\n",
    "M = rand_trans(images, 1, 3)\n",
    "data_mov = torch.from_numpy(image_gen(images,M, mov_len)).float().cuda()\n",
    "data_mov = data_mov/255"
   ]
  },
  {
   "cell_type": "code",
   "execution_count": 646,
   "metadata": {},
   "outputs": [
    {
     "data": {
      "text/plain": [
       "torch.Size([1000, 5, 28, 28])"
      ]
     },
     "execution_count": 646,
     "metadata": {},
     "output_type": "execute_result"
    }
   ],
   "source": [
    "data_mov.shape"
   ]
  },
  {
   "cell_type": "code",
   "execution_count": 644,
   "metadata": {},
   "outputs": [
    {
     "data": {
      "text/plain": [
       "<module 'V1_DAE' from '/home/shazoop/form-and-motion/EE219A/V1_DAE.py'>"
      ]
     },
     "execution_count": 644,
     "metadata": {},
     "output_type": "execute_result"
    }
   ],
   "source": [
    "importlib.reload(V1)"
   ]
  },
  {
   "cell_type": "code",
   "execution_count": 647,
   "metadata": {
    "scrolled": true
   },
   "outputs": [
    {
     "data": {
      "image/png": "[encoded data removed]",
      "text/plain": [
       "<Figure size 720x720 with 5 Axes>"
      ]
     },
     "metadata": {
      "needs_background": "light"
     },
     "output_type": "display_data"
    }
   ],
   "source": [
    "fig =  plt.figure(figsize= (10,10) )\n",
    "for i in range(mov_len):\n",
    "    fig.add_subplot(1,mov_len, i + 1)\n",
    "    plt.imshow(data_mov[0,i,:].cpu().numpy(), cmap = 'Greys')"
   ]
  },
  {
   "cell_type": "code",
   "execution_count": 2732,
   "metadata": {},
   "outputs": [],
   "source": [
    "main = V2.fullV1(a=  .8, b=.3, tau = 10)"
   ]
  },
  {
   "cell_type": "code",
   "execution_count": 2733,
   "metadata": {},
   "outputs": [
    {
     "data": {
      "text/plain": [
       "['In the hidden layer, there are 25 units per slice, with depth 16, and RF size: 12 by 12',\n",
       " 'In the top layer, there are 16 units',\n",
       " 'There are 400 hidden units, 16 top units, and 1632 units in total.',\n",
       " 'Fitz-Nag parameters (a,b, tau) are (0.8,0.3, 10).',\n",
       " 'Self-activation parameter is 0.5']"
      ]
     },
     "execution_count": 2733,
     "metadata": {},
     "output_type": "execute_result"
    }
   ],
   "source": [
    "main.summary()"
   ]
  },
  {
   "cell_type": "code",
   "execution_count": 2734,
   "metadata": {},
   "outputs": [],
   "source": [
    "x, funargs= main.init()"
   ]
  },
  {
   "cell_type": "code",
   "execution_count": 2735,
   "metadata": {},
   "outputs": [],
   "source": [
    "Input = torch.rand(28,28)"
   ]
  },
  {
   "cell_type": "code",
   "execution_count": 2736,
   "metadata": {},
   "outputs": [
    {
     "data": {
      "text/plain": [
       "(tensor([0., 0.]), 1, 1)"
      ]
     },
     "execution_count": 2736,
     "metadata": {},
     "output_type": "execute_result"
    }
   ],
   "source": [
    "#Test run. SInce linear, should converge in 1 step for NR.\n",
    "f = lambda x ,funargs: torch.tensor([[3,0],[0,1]]).float() @ x\n",
    "df = lambda x, funargs: torch.tensor([[3,0],[0,1]]).float()\n",
    "xinit = torch.tensor([0,0]).float()\n",
    "NR.NR(f,df,xinit, [])"
   ]
  },
  {
   "cell_type": "code",
   "execution_count": 2765,
   "metadata": {},
   "outputs": [
    {
     "data": {
      "text/plain": [
       "<module 'DAE_solver' from '/home/shazoop/form-and-motion/EE219A/DAE_solver.py'>"
      ]
     },
     "execution_count": 2765,
     "metadata": {},
     "output_type": "execute_result"
    }
   ],
   "source": [
    "importlib.reload(FN)\n",
    "importlib.reload(DS)"
   ]
  },
  {
   "cell_type": "code",
   "execution_count": 2766,
   "metadata": {},
   "outputs": [],
   "source": [
    "fitz = FN.FN(n = 1, tau= 10)"
   ]
  },
  {
   "cell_type": "code",
   "execution_count": 2767,
   "metadata": {},
   "outputs": [
    {
     "name": "stdout",
     "output_type": "stream",
     "text": [
      "{'# neurons': 1, 'a': 0.7, 'b': 0.8, 'tau': 10}\n"
     ]
    }
   ],
   "source": [
    "fitz.print_parms()"
   ]
  },
  {
   "cell_type": "code",
   "execution_count": 2768,
   "metadata": {},
   "outputs": [],
   "source": [
    "x = fitz.init()"
   ]
  },
  {
   "cell_type": "code",
   "execution_count": 2769,
   "metadata": {},
   "outputs": [],
   "source": [
    "u = 3*torch.ones(1).float()"
   ]
  },
  {
   "cell_type": "code",
   "execution_count": 2770,
   "metadata": {},
   "outputs": [],
   "source": [
    "DSsolve = DS.DAE_solver(fitz,x,u, funargs = [], h = .1, tstop = 10, method = 'BE')"
   ]
  },
  {
   "cell_type": "code",
   "execution_count": 2771,
   "metadata": {},
   "outputs": [],
   "source": [
    "tpts, xpts = DSsolve.solve()"
   ]
  },
  {
   "cell_type": "code",
   "execution_count": 2772,
   "metadata": {},
   "outputs": [
    {
     "data": {
      "text/plain": [
       "[<matplotlib.lines.Line2D at 0x7fef5b18feb8>]"
      ]
     },
     "execution_count": 2772,
     "metadata": {},
     "output_type": "execute_result"
    },
    {
     "data": {
      "image/png": "[encoded data removed]",
      "text/plain": [
       "<Figure size 432x288 with 1 Axes>"
      ]
     },
     "metadata": {
      "needs_background": "light"
     },
     "output_type": "display_data"
    }
   ],
   "source": [
    "plt.plot(xpts[:,0].cpu().numpy())"
   ]
  },
  {
   "cell_type": "code",
   "execution_count": 2753,
   "metadata": {},
   "outputs": [
    {
     "data": {
      "text/plain": [
       "torch.Size([102, 2])"
      ]
     },
     "execution_count": 2753,
     "metadata": {},
     "output_type": "execute_result"
    }
   ],
   "source": [
    "xpts.shape"
   ]
  },
  {
   "cell_type": "code",
   "execution_count": 3704,
   "metadata": {},
   "outputs": [
    {
     "data": {
      "text/plain": [
       "<module 'V1_DAE_v2' from '/home/shazoop/form-and-motion/EE219A/V1_DAE_v2.py'>"
      ]
     },
     "execution_count": 3704,
     "metadata": {},
     "output_type": "execute_result"
    }
   ],
   "source": [
    "importlib.reload(V1)\n",
    "importlib.reload(DS)\n",
    "importlib.reload(V2)"
   ]
  },
  {
   "cell_type": "code",
   "execution_count": 3795,
   "metadata": {},
   "outputs": [],
   "source": [
    "main = V1.fullV1(tau = 50, lam = .5)"
   ]
  },
  {
   "cell_type": "code",
   "execution_count": 3796,
   "metadata": {},
   "outputs": [
    {
     "data": {
      "text/plain": [
       "{'pixel dim': 28,\n",
       " 'RF 1 dim': 12,\n",
       " 'hidden layer depth': 16,\n",
       " 'top layer depth': 16,\n",
       " 'L1 stride': 4,\n",
       " 'self-activate  parameter': 0.5,\n",
       " 'a': 0.7,\n",
       " 'b': 0.8,\n",
       " 'tau': 50}"
      ]
     },
     "execution_count": 3796,
     "metadata": {},
     "output_type": "execute_result"
    }
   ],
   "source": [
    "main.print_allparms()"
   ]
  },
  {
   "cell_type": "code",
   "execution_count": 3797,
   "metadata": {},
   "outputs": [
    {
     "data": {
      "text/plain": [
       "['In the hidden layer, there are 25 units per slice, with depth 16, and RF size: 12 by 12',\n",
       " 'In the top layer, there are 16 units',\n",
       " 'There are 400 hidden units, 16 top units, and 1248 units in total.',\n",
       " 'Fitz-Nag parameters (a,b, tau) are (0.7,0.8, 50).',\n",
       " 'Self-activation parameter is 0.5']"
      ]
     },
     "execution_count": 3797,
     "metadata": {},
     "output_type": "execute_result"
    }
   ],
   "source": [
    "main.summary()"
   ]
  },
  {
   "cell_type": "code",
   "execution_count": 3798,
   "metadata": {},
   "outputs": [],
   "source": [
    "x, funargs = main.init()"
   ]
  },
  {
   "cell_type": "code",
   "execution_count": 3799,
   "metadata": {},
   "outputs": [],
   "source": [
    "# N,n1,d1,d2,S1, lam, a, b, tau = main._parms.values()\n",
    "# itau = 1/tau\n",
    "# L1_dim = int((N+S1-n1)/S1) #one-sided: number of units\n",
    "# L1sq = int(L1_dim**2)\n",
    "# N1 = L1sq*d1\n",
    "# N2 = d2\n",
    "# ttlN = 3*N1 + 3*N2\n",
    "# y,v,w,v_z,w_z,z = main.getVars(x)\n",
    "# W,A = funargs\n",
    "\n",
    "# Q = torch.zeros(N1,N1)\n",
    "# Q1 = (torch.ones(d1,d1) - lam*torch.eye(d1))\n",
    "# for i in range(L1sq):\n",
    "#     Q[i*d1:(i+1)*d1, i*d1:(i+1)*d1] = Q1\n",
    "# J[:N1,:N1] = torch.diag(V1.drelu(V1.logG(u) - Q @ y)) @ (-Q) - torch.eye(N1)  \n"
   ]
  },
  {
   "cell_type": "code",
   "execution_count": 3800,
   "metadata": {},
   "outputs": [],
   "source": [
    "u = main.uMul(data_mov[1,0],funargs)"
   ]
  },
  {
   "cell_type": "code",
   "execution_count": 3818,
   "metadata": {},
   "outputs": [],
   "source": [
    "DSsolve = DS.DAE_solver(main,x,u, funargs = funargs, h = .05, tstop = 8, method = 'BE', \\\n",
    "                        NRparms = {'maxiter': 200, 'reltol': 1e-3, 'abstol': 1e-3, 'restol': 1e-4, 'convcrit': 'dxORres' })"
   ]
  },
  {
   "cell_type": "code",
   "execution_count": 3819,
   "metadata": {},
   "outputs": [
    {
     "name": "stdout",
     "output_type": "stream",
     "text": [
      "\n",
      "NR failed to solve nonlinear equations - reached maxiter=200\n",
      "NR failed to converge at time 4.249999999999993, step 85\n"
     ]
    }
   ],
   "source": [
    "_,xpts = DSsolve.solve()"
   ]
  },
  {
   "cell_type": "code",
   "execution_count": 3820,
   "metadata": {},
   "outputs": [],
   "source": [
    "y,v,w,v_z,w_z,z = main.getVars(xpts[len(xpts)-1])"
   ]
  },
  {
   "cell_type": "code",
   "execution_count": 3821,
   "metadata": {},
   "outputs": [],
   "source": [
    "ix = y.argmax().item()"
   ]
  },
  {
   "cell_type": "code",
   "execution_count": 3822,
   "metadata": {},
   "outputs": [
    {
     "data": {
      "text/plain": [
       "torch.Size([400])"
      ]
     },
     "execution_count": 3822,
     "metadata": {},
     "output_type": "execute_result"
    }
   ],
   "source": [
    "y.shape"
   ]
  },
  {
   "cell_type": "code",
   "execution_count": 3823,
   "metadata": {},
   "outputs": [
    {
     "data": {
      "text/plain": [
       "(array([323.,  23.,  22.,  11.,  10.,   2.,   5.,   3.,   0.,   1.]),\n",
       " array([1.6347830e-04, 2.9085225e-01, 5.8154100e-01, 8.7222975e-01,\n",
       "        1.1629186e+00, 1.4536073e+00, 1.7442961e+00, 2.0349848e+00,\n",
       "        2.3256736e+00, 2.6163623e+00, 2.9070511e+00], dtype=float32),\n",
       " <a list of 10 Patch objects>)"
      ]
     },
     "execution_count": 3823,
     "metadata": {},
     "output_type": "execute_result"
    },
    {
     "data": {
      "image/png": "[encoded data removed]",
      "text/plain": [
       "<Figure size 432x288 with 1 Axes>"
      ]
     },
     "metadata": {
      "needs_background": "light"
     },
     "output_type": "display_data"
    }
   ],
   "source": [
    "plt.hist(y.cpu().numpy())\n",
    "#plt.savefig('Model2_y')"
   ]
  },
  {
   "cell_type": "code",
   "execution_count": 3824,
   "metadata": {},
   "outputs": [
    {
     "data": {
      "text/plain": [
       "tensor([ 3.4322e-01,  3.4327e-01,  2.4116e-01, -4.4877e-15,  1.0590e-01,\n",
       "        -4.4904e-15,  2.4868e-02, -4.4877e-15,  2.5451e-02,  2.4079e-01,\n",
       "        -1.4250e-14,  1.9778e-02, -4.4877e-15,  3.4244e-01,  2.1285e-01,\n",
       "         2.4741e-02])"
      ]
     },
     "execution_count": 3824,
     "metadata": {},
     "output_type": "execute_result"
    }
   ],
   "source": [
    "z"
   ]
  },
  {
   "cell_type": "code",
   "execution_count": 3825,
   "metadata": {},
   "outputs": [],
   "source": [
    "#1/len(xpts)*(xpts[:,400:800]**2).sum(dim=0)"
   ]
  },
  {
   "cell_type": "code",
   "execution_count": 3826,
   "metadata": {},
   "outputs": [],
   "source": [
    "#1/len(xpts)*xpts[:,400:800].clamp(min=0).sum(dim=0)"
   ]
  },
  {
   "cell_type": "code",
   "execution_count": 3827,
   "metadata": {
    "scrolled": true
   },
   "outputs": [
    {
     "data": {
      "text/plain": [
       "[<matplotlib.lines.Line2D at 0x7fef43c9f400>]"
      ]
     },
     "execution_count": 3827,
     "metadata": {},
     "output_type": "execute_result"
    },
    {
     "data": {
      "image/png": "[encoded data removed]",
      "text/plain": [
       "<Figure size 432x288 with 1 Axes>"
      ]
     },
     "metadata": {
      "needs_background": "light"
     },
     "output_type": "display_data"
    }
   ],
   "source": [
    "plt.plot(xpts[:,ix+400].cpu().numpy())\n",
    "#plt.savefig('Model2_v')"
   ]
  },
  {
   "cell_type": "code",
   "execution_count": 3828,
   "metadata": {},
   "outputs": [
    {
     "data": {
      "text/plain": [
       "tensor(2)"
      ]
     },
     "execution_count": 3828,
     "metadata": {},
     "output_type": "execute_result"
    }
   ],
   "source": [
    "v_z.argmax()"
   ]
  },
  {
   "cell_type": "code",
   "execution_count": 3829,
   "metadata": {},
   "outputs": [
    {
     "data": {
      "text/plain": [
       "[<matplotlib.lines.Line2D at 0x7fef43c71828>]"
      ]
     },
     "execution_count": 3829,
     "metadata": {},
     "output_type": "execute_result"
    },
    {
     "data": {
      "image/png": "[encoded data removed]",
      "text/plain": [
       "<Figure size 432x288 with 1 Axes>"
      ]
     },
     "metadata": {
      "needs_background": "light"
     },
     "output_type": "display_data"
    }
   ],
   "source": [
    "plt.plot(xpts[:,13+1200].cpu().numpy())\n",
    "#plt.savefig('Model2_vz')"
   ]
  },
  {
   "cell_type": "code",
   "execution_count": 3830,
   "metadata": {},
   "outputs": [
    {
     "data": {
      "text/plain": [
       "(array([9., 0., 0., 1., 0., 0., 1., 2., 0., 3.]),\n",
       " array([-1.4249908e-14,  3.4327008e-02,  6.8654016e-02,  1.0298103e-01,\n",
       "         1.3730803e-01,  1.7163505e-01,  2.0596206e-01,  2.4028906e-01,\n",
       "         2.7461606e-01,  3.0894309e-01,  3.4327009e-01], dtype=float32),\n",
       " <a list of 10 Patch objects>)"
      ]
     },
     "execution_count": 3830,
     "metadata": {},
     "output_type": "execute_result"
    },
    {
     "data": {
      "image/png": "[encoded data removed]",
      "text/plain": [
       "<Figure size 432x288 with 1 Axes>"
      ]
     },
     "metadata": {
      "needs_background": "light"
     },
     "output_type": "display_data"
    }
   ],
   "source": [
    "plt.hist(z.cpu().numpy())\n",
    "#plt.savefig('Model2_z')"
   ]
  },
  {
   "cell_type": "code",
   "execution_count": 3814,
   "metadata": {},
   "outputs": [],
   "source": [
    "ix = y.argmax().item()"
   ]
  },
  {
   "cell_type": "code",
   "execution_count": 3815,
   "metadata": {},
   "outputs": [
    {
     "data": {
      "text/plain": [
       "[<matplotlib.lines.Line2D at 0x7fef43dc4f28>]"
      ]
     },
     "execution_count": 3815,
     "metadata": {},
     "output_type": "execute_result"
    },
    {
     "data": {
      "image/png": "[encoded data removed]",
      "text/plain": [
       "<Figure size 432x288 with 1 Axes>"
      ]
     },
     "metadata": {
      "needs_background": "light"
     },
     "output_type": "display_data"
    }
   ],
   "source": [
    "plt.plot(xpts[:,ix+400].cpu().numpy())"
   ]
  },
  {
   "cell_type": "code",
   "execution_count": 3296,
   "metadata": {},
   "outputs": [
    {
     "ename": "NameError",
     "evalue": "name 'x_final2' is not defined",
     "output_type": "error",
     "traceback": [
      "\u001b[0;31m---------------------------------------------------------------------------\u001b[0m",
      "\u001b[0;31mNameError\u001b[0m                                 Traceback (most recent call last)",
      "\u001b[0;32m<ipython-input-3296-af06fa51b81d>\u001b[0m in \u001b[0;36m<module>\u001b[0;34m\u001b[0m\n\u001b[0;32m----> 1\u001b[0;31m \u001b[0mx_final2\u001b[0m\u001b[0;34m[\u001b[0m\u001b[0;36m400\u001b[0m\u001b[0;34m:\u001b[0m\u001b[0;36m800\u001b[0m\u001b[0;34m]\u001b[0m\u001b[0;34m.\u001b[0m\u001b[0msum\u001b[0m\u001b[0;34m(\u001b[0m\u001b[0mdim\u001b[0m\u001b[0;34m=\u001b[0m\u001b[0;36m0\u001b[0m\u001b[0;34m)\u001b[0m\u001b[0;34m\u001b[0m\u001b[0;34m\u001b[0m\u001b[0m\n\u001b[0m",
      "\u001b[0;31mNameError\u001b[0m: name 'x_final2' is not defined"
     ]
    }
   ],
   "source": [
    "x_final2[400:800].sum(dim=0)"
   ]
  },
  {
   "cell_type": "code",
   "execution_count": null,
   "metadata": {},
   "outputs": [],
   "source": [
    "plt.plot(xpts[:,8+1200].cpu().numpy())"
   ]
  },
  {
   "cell_type": "code",
   "execution_count": 2846,
   "metadata": {},
   "outputs": [
    {
     "data": {
      "text/plain": [
       "tensor(4.4127)"
      ]
     },
     "execution_count": 2846,
     "metadata": {},
     "output_type": "execute_result"
    }
   ],
   "source": [
    "torch.max(1/102*(xpts[:,400:800].abs()).sum(dim=0))"
   ]
  },
  {
   "cell_type": "code",
   "execution_count": 3787,
   "metadata": {},
   "outputs": [
    {
     "data": {
      "text/plain": [
       "<module 'V1_DAE' from '/home/shazoop/form-and-motion/EE219A/V1_DAE.py'>"
      ]
     },
     "execution_count": 3787,
     "metadata": {},
     "output_type": "execute_result"
    }
   ],
   "source": [
    "importlib.reload(DS)\n",
    "importlib.reload(V1)"
   ]
  },
  {
   "cell_type": "code",
   "execution_count": 3831,
   "metadata": {},
   "outputs": [
    {
     "data": {
      "text/plain": [
       "['In the hidden layer, there are 25 units per slice, with depth 16, and RF size: 12 by 12',\n",
       " 'In the top layer, there are 16 units',\n",
       " 'There are 400 hidden units, 16 top units, and 1248 units in total.',\n",
       " 'Fitz-Nag parameters (a,b, tau) are (0.7,0.8, 50).',\n",
       " 'Self-activation parameter is 0.5']"
      ]
     },
     "execution_count": 3831,
     "metadata": {},
     "output_type": "execute_result"
    }
   ],
   "source": [
    "main = V1.fullV1(tau = 50, lam = .5)\n",
    "main.summary()"
   ]
  },
  {
   "cell_type": "code",
   "execution_count": 3851,
   "metadata": {},
   "outputs": [],
   "source": [
    "N, L1,d1,d2 = main.print_parms()\n",
    "\n",
    "trainSteps = 500\n",
    "par1 = .3\n",
    "par2 = .3\n",
    "par3 = .2"
   ]
  },
  {
   "cell_type": "code",
   "execution_count": 3852,
   "metadata": {},
   "outputs": [],
   "source": [
    "x, funargs = main.init()\n",
    "W,A = funargs"
   ]
  },
  {
   "cell_type": "code",
   "execution_count": 3853,
   "metadata": {},
   "outputs": [
    {
     "ename": "KeyboardInterrupt",
     "evalue": "",
     "output_type": "error",
     "traceback": [
      "\u001b[0;31m---------------------------------------------------------------------------\u001b[0m",
      "\u001b[0;31mKeyboardInterrupt\u001b[0m                         Traceback (most recent call last)",
      "\u001b[0;32m<ipython-input-3853-cd921b960e56>\u001b[0m in \u001b[0;36m<module>\u001b[0;34m\u001b[0m\n\u001b[1;32m      7\u001b[0m         DSsolve = DS.DAE_solver(main,x,u, funargs = funargs, h = .05, tstop = 7, method = 'BE', \\\n\u001b[1;32m      8\u001b[0m                         NRparms = {'maxiter': 200, 'reltol': 1e-2, 'abstol': 1e-2, 'restol': 1e-3, 'convcrit': 'dxORres' })\n\u001b[0;32m----> 9\u001b[0;31m         \u001b[0m_\u001b[0m\u001b[0;34m,\u001b[0m\u001b[0mxpts\u001b[0m \u001b[0;34m=\u001b[0m \u001b[0mDSsolve\u001b[0m\u001b[0;34m.\u001b[0m\u001b[0msolve\u001b[0m\u001b[0;34m(\u001b[0m\u001b[0;34m)\u001b[0m\u001b[0;34m\u001b[0m\u001b[0;34m\u001b[0m\u001b[0m\n\u001b[0m\u001b[1;32m     10\u001b[0m         \u001b[0my\u001b[0m\u001b[0;34m,\u001b[0m\u001b[0mv\u001b[0m\u001b[0;34m,\u001b[0m\u001b[0mw\u001b[0m\u001b[0;34m,\u001b[0m\u001b[0mv_z\u001b[0m\u001b[0;34m,\u001b[0m\u001b[0mw_z\u001b[0m\u001b[0;34m,\u001b[0m\u001b[0mz\u001b[0m \u001b[0;34m=\u001b[0m \u001b[0mmain\u001b[0m\u001b[0;34m.\u001b[0m\u001b[0mgetVars\u001b[0m\u001b[0;34m(\u001b[0m\u001b[0mxpts\u001b[0m\u001b[0;34m[\u001b[0m\u001b[0mlen\u001b[0m\u001b[0;34m(\u001b[0m\u001b[0mxpts\u001b[0m\u001b[0;34m)\u001b[0m\u001b[0;34m-\u001b[0m\u001b[0;36m1\u001b[0m\u001b[0;34m]\u001b[0m\u001b[0;34m)\u001b[0m\u001b[0;34m\u001b[0m\u001b[0;34m\u001b[0m\u001b[0m\n\u001b[1;32m     11\u001b[0m         \u001b[0mT\u001b[0m \u001b[0;34m=\u001b[0m \u001b[0mlen\u001b[0m\u001b[0;34m(\u001b[0m\u001b[0mxpts\u001b[0m\u001b[0;34m)\u001b[0m\u001b[0;34m\u001b[0m\u001b[0;34m\u001b[0m\u001b[0m\n",
      "\u001b[0;32m~/form-and-motion/EE219A/DAE_solver.py\u001b[0m in \u001b[0;36msolve\u001b[0;34m(self)\u001b[0m\n\u001b[1;32m     98\u001b[0m         \u001b[0;32mif\u001b[0m \u001b[0mself\u001b[0m\u001b[0;34m.\u001b[0m\u001b[0mrecord\u001b[0m \u001b[0;34m==\u001b[0m \u001b[0;32mTrue\u001b[0m\u001b[0;34m:\u001b[0m\u001b[0;34m\u001b[0m\u001b[0;34m\u001b[0m\u001b[0m\n\u001b[1;32m     99\u001b[0m             tpts, xpts = solver(f,df,q,dq, self.init_x, self.u, self.funargs, self.NRparms, self.method,\\\n\u001b[0;32m--> 100\u001b[0;31m                                 self.tstart, self.tstop, self.h, self.record)\n\u001b[0m\u001b[1;32m    101\u001b[0m             \u001b[0;32mreturn\u001b[0m \u001b[0;34m(\u001b[0m\u001b[0mtpts\u001b[0m\u001b[0;34m,\u001b[0m\u001b[0mxpts\u001b[0m\u001b[0;34m)\u001b[0m\u001b[0;34m\u001b[0m\u001b[0;34m\u001b[0m\u001b[0m\n\u001b[1;32m    102\u001b[0m         \u001b[0;32melse\u001b[0m\u001b[0;34m:\u001b[0m\u001b[0;34m\u001b[0m\u001b[0;34m\u001b[0m\u001b[0m\n",
      "\u001b[0;32m~/form-and-motion/EE219A/DAE_solver.py\u001b[0m in \u001b[0;36msolver\u001b[0;34m(f, df, q, dq, init_x, u, funargs, NRparms, method, tstart, tstop, h, record)\u001b[0m\n\u001b[1;32m     47\u001b[0m         \u001b[0mstep\u001b[0m \u001b[0;34m=\u001b[0m \u001b[0;36m0\u001b[0m\u001b[0;34m\u001b[0m\u001b[0;34m\u001b[0m\u001b[0m\n\u001b[1;32m     48\u001b[0m         \u001b[0;32mwhile\u001b[0m \u001b[0;34m(\u001b[0m\u001b[0mt\u001b[0m \u001b[0;34m<\u001b[0m \u001b[0mtstop\u001b[0m\u001b[0;34m)\u001b[0m\u001b[0;34m:\u001b[0m\u001b[0;34m\u001b[0m\u001b[0;34m\u001b[0m\u001b[0m\n\u001b[0;32m---> 49\u001b[0;31m             \u001b[0mx_new\u001b[0m\u001b[0;34m,\u001b[0m \u001b[0miters\u001b[0m\u001b[0;34m,\u001b[0m \u001b[0msuccess\u001b[0m \u001b[0;34m=\u001b[0m \u001b[0mNR\u001b[0m\u001b[0;34m(\u001b[0m\u001b[0mgfun\u001b[0m\u001b[0;34m,\u001b[0m\u001b[0mdgfun\u001b[0m\u001b[0;34m,\u001b[0m\u001b[0mx_old\u001b[0m\u001b[0;34m,\u001b[0m \u001b[0mx_old\u001b[0m\u001b[0;34m,\u001b[0m \u001b[0mNRparms\u001b[0m\u001b[0;34m)\u001b[0m\u001b[0;34m\u001b[0m\u001b[0;34m\u001b[0m\u001b[0m\n\u001b[0m\u001b[1;32m     50\u001b[0m             \u001b[0mx_old\u001b[0m \u001b[0;34m=\u001b[0m \u001b[0mx_new\u001b[0m\u001b[0;34m\u001b[0m\u001b[0;34m\u001b[0m\u001b[0m\n\u001b[1;32m     51\u001b[0m             \u001b[0mxpts\u001b[0m \u001b[0;34m=\u001b[0m \u001b[0mtorch\u001b[0m\u001b[0;34m.\u001b[0m\u001b[0mcat\u001b[0m\u001b[0;34m(\u001b[0m\u001b[0;34m(\u001b[0m\u001b[0mxpts\u001b[0m\u001b[0;34m,\u001b[0m\u001b[0mx_new\u001b[0m\u001b[0;34m.\u001b[0m\u001b[0munsqueeze\u001b[0m\u001b[0;34m(\u001b[0m\u001b[0mdim\u001b[0m \u001b[0;34m=\u001b[0m \u001b[0;36m0\u001b[0m\u001b[0;34m)\u001b[0m\u001b[0;34m)\u001b[0m\u001b[0;34m,\u001b[0m \u001b[0mdim\u001b[0m \u001b[0;34m=\u001b[0m \u001b[0;36m0\u001b[0m\u001b[0;34m)\u001b[0m\u001b[0;34m\u001b[0m\u001b[0;34m\u001b[0m\u001b[0m\n",
      "\u001b[0;32m~/form-and-motion/EE219A/NR.py\u001b[0m in \u001b[0;36mNR\u001b[0;34m(gfun, dgdxfun, init_x, fargs, NRparms, detail)\u001b[0m\n\u001b[1;32m     29\u001b[0m         \u001b[0mg\u001b[0m \u001b[0;34m=\u001b[0m \u001b[0mgfun\u001b[0m\u001b[0;34m(\u001b[0m\u001b[0mx\u001b[0m\u001b[0;34m,\u001b[0m \u001b[0mfargs\u001b[0m\u001b[0;34m)\u001b[0m\u001b[0;34m\u001b[0m\u001b[0;34m\u001b[0m\u001b[0m\n\u001b[1;32m     30\u001b[0m         \u001b[0mJg\u001b[0m \u001b[0;34m=\u001b[0m \u001b[0mdgdxfun\u001b[0m\u001b[0;34m(\u001b[0m\u001b[0mx\u001b[0m\u001b[0;34m,\u001b[0m \u001b[0mfargs\u001b[0m\u001b[0;34m)\u001b[0m\u001b[0;34m\u001b[0m\u001b[0;34m\u001b[0m\u001b[0m\n\u001b[0;32m---> 31\u001b[0;31m         \u001b[0mdx\u001b[0m \u001b[0;34m=\u001b[0m \u001b[0;34m-\u001b[0m\u001b[0mtorch\u001b[0m\u001b[0;34m.\u001b[0m\u001b[0minverse\u001b[0m\u001b[0;34m(\u001b[0m\u001b[0mJg\u001b[0m\u001b[0;34m)\u001b[0m \u001b[0;34m@\u001b[0m \u001b[0mg\u001b[0m\u001b[0;34m\u001b[0m\u001b[0;34m\u001b[0m\u001b[0m\n\u001b[0m\u001b[1;32m     32\u001b[0m         \u001b[0mx\u001b[0m \u001b[0;34m=\u001b[0m \u001b[0mx\u001b[0m \u001b[0;34m+\u001b[0m \u001b[0mdx\u001b[0m\u001b[0;34m\u001b[0m\u001b[0;34m\u001b[0m\u001b[0m\n\u001b[1;32m     33\u001b[0m         \u001b[0mitr\u001b[0m \u001b[0;34m=\u001b[0m \u001b[0mitr\u001b[0m \u001b[0;34m+\u001b[0m \u001b[0;36m1\u001b[0m\u001b[0;34m\u001b[0m\u001b[0;34m\u001b[0m\u001b[0m\n",
      "\u001b[0;31mKeyboardInterrupt\u001b[0m: "
     ]
    }
   ],
   "source": [
    "for train in range(trainSteps):\n",
    "    input_mov = data_mov[int(np.random.randint(0,data_mov.size(0),1))] #select a random movie sequence\n",
    "    x = main.xinit()\n",
    "    for i in range(mov_len):\n",
    "        uPix = main.pixel_mask(input_mov[i])\n",
    "        u = main.uMul(input_mov[i],funargs)\n",
    "        DSsolve = DS.DAE_solver(main,x,u, funargs = funargs, h = .05, tstop = 7, method = 'BE', \\\n",
    "                        NRparms = {'maxiter': 200, 'reltol': 1e-2, 'abstol': 1e-2, 'restol': 1e-3, 'convcrit': 'dxORres' })\n",
    "        _,xpts = DSsolve.solve()\n",
    "        y,v,w,v_z,w_z,z = main.getVars(xpts[len(xpts)-1])\n",
    "        T = len(xpts)\n",
    "        v_trace = 1/T*(xpts[:,400:800].clamp(min=0)).sum(dim=0) #average positive part\n",
    "        if i == 0:\n",
    "            z_avg = z\n",
    "        else:\n",
    "            z_avg = (1-par3)*z_avg + par3*z\n",
    "        v_in = v_trace.reshape(L1,L1,d1)\n",
    "        dW = torch.einsum('abc,abn -> abcn', v_in,uPix) - torch.einsum('abc,abcn -> abcn', v_in, W )\n",
    "        W = W + par1*dW\n",
    "        dA = torch.einsum('i,j -> ij', z_avg,v_trace) - torch.einsum('i,ij -> ij',z_avg,A)\n",
    "        A = A + par2*dA\n",
    "        x = xpts[len(xpts)-1]\n",
    "        funargs = (W,A)\n",
    "    print(train)\n",
    "        \n",
    "        \n",
    "        \n",
    "        \n",
    "\n"
   ]
  },
  {
   "cell_type": "code",
   "execution_count": null,
   "metadata": {},
   "outputs": [],
   "source": []
  },
  {
   "cell_type": "code",
   "execution_count": 3753,
   "metadata": {},
   "outputs": [],
   "source": [
    "#W_F,A_F = funargs"
   ]
  },
  {
   "cell_type": "code",
   "execution_count": 3844,
   "metadata": {},
   "outputs": [],
   "source": [
    "# W2,A2=funargs"
   ]
  },
  {
   "cell_type": "code",
   "execution_count": 3846,
   "metadata": {},
   "outputs": [
    {
     "data": {
      "text/plain": [
       "tensor([[[[nan, nan, nan,  ..., nan, nan, nan],\n",
       "          [nan, nan, nan,  ..., nan, nan, nan],\n",
       "          [nan, nan, nan,  ..., nan, nan, nan],\n",
       "          ...,\n",
       "          [nan, nan, nan,  ..., nan, nan, nan],\n",
       "          [nan, nan, nan,  ..., nan, nan, nan],\n",
       "          [nan, nan, nan,  ..., nan, nan, nan]],\n",
       "\n",
       "         [[nan, nan, nan,  ..., nan, nan, nan],\n",
       "          [nan, nan, nan,  ..., nan, nan, nan],\n",
       "          [nan, nan, nan,  ..., nan, nan, nan],\n",
       "          ...,\n",
       "          [nan, nan, nan,  ..., nan, nan, nan],\n",
       "          [nan, nan, nan,  ..., nan, nan, nan],\n",
       "          [nan, nan, nan,  ..., nan, nan, nan]],\n",
       "\n",
       "         [[nan, nan, nan,  ..., nan, nan, nan],\n",
       "          [nan, nan, nan,  ..., nan, nan, nan],\n",
       "          [nan, nan, nan,  ..., nan, nan, nan],\n",
       "          ...,\n",
       "          [nan, nan, nan,  ..., nan, nan, nan],\n",
       "          [nan, nan, nan,  ..., nan, nan, nan],\n",
       "          [nan, nan, nan,  ..., nan, nan, nan]],\n",
       "\n",
       "         [[nan, nan, nan,  ..., nan, nan, nan],\n",
       "          [nan, nan, nan,  ..., nan, nan, nan],\n",
       "          [nan, nan, nan,  ..., nan, nan, nan],\n",
       "          ...,\n",
       "          [nan, nan, nan,  ..., nan, nan, nan],\n",
       "          [nan, nan, nan,  ..., nan, nan, nan],\n",
       "          [nan, nan, nan,  ..., nan, nan, nan]],\n",
       "\n",
       "         [[nan, nan, nan,  ..., nan, nan, nan],\n",
       "          [nan, nan, nan,  ..., nan, nan, nan],\n",
       "          [nan, nan, nan,  ..., nan, nan, nan],\n",
       "          ...,\n",
       "          [nan, nan, nan,  ..., nan, nan, nan],\n",
       "          [nan, nan, nan,  ..., nan, nan, nan],\n",
       "          [nan, nan, nan,  ..., nan, nan, nan]]],\n",
       "\n",
       "\n",
       "        [[[nan, nan, nan,  ..., nan, nan, nan],\n",
       "          [nan, nan, nan,  ..., nan, nan, nan],\n",
       "          [nan, nan, nan,  ..., nan, nan, nan],\n",
       "          ...,\n",
       "          [nan, nan, nan,  ..., nan, nan, nan],\n",
       "          [nan, nan, nan,  ..., nan, nan, nan],\n",
       "          [nan, nan, nan,  ..., nan, nan, nan]],\n",
       "\n",
       "         [[nan, nan, nan,  ..., nan, nan, nan],\n",
       "          [nan, nan, nan,  ..., nan, nan, nan],\n",
       "          [nan, nan, nan,  ..., nan, nan, nan],\n",
       "          ...,\n",
       "          [nan, nan, nan,  ..., nan, nan, nan],\n",
       "          [nan, nan, nan,  ..., nan, nan, nan],\n",
       "          [nan, nan, nan,  ..., nan, nan, nan]],\n",
       "\n",
       "         [[nan, nan, nan,  ..., nan, nan, nan],\n",
       "          [nan, nan, nan,  ..., nan, nan, nan],\n",
       "          [nan, nan, nan,  ..., nan, nan, nan],\n",
       "          ...,\n",
       "          [nan, nan, nan,  ..., nan, nan, nan],\n",
       "          [nan, nan, nan,  ..., nan, nan, nan],\n",
       "          [nan, nan, nan,  ..., nan, nan, nan]],\n",
       "\n",
       "         [[nan, nan, nan,  ..., nan, nan, nan],\n",
       "          [nan, nan, nan,  ..., nan, nan, nan],\n",
       "          [nan, nan, nan,  ..., nan, nan, nan],\n",
       "          ...,\n",
       "          [nan, nan, nan,  ..., nan, nan, nan],\n",
       "          [nan, nan, nan,  ..., nan, nan, nan],\n",
       "          [nan, nan, nan,  ..., nan, nan, nan]],\n",
       "\n",
       "         [[nan, nan, nan,  ..., nan, nan, nan],\n",
       "          [nan, nan, nan,  ..., nan, nan, nan],\n",
       "          [nan, nan, nan,  ..., nan, nan, nan],\n",
       "          ...,\n",
       "          [nan, nan, nan,  ..., nan, nan, nan],\n",
       "          [nan, nan, nan,  ..., nan, nan, nan],\n",
       "          [nan, nan, nan,  ..., nan, nan, nan]]],\n",
       "\n",
       "\n",
       "        [[[nan, nan, nan,  ..., nan, nan, nan],\n",
       "          [nan, nan, nan,  ..., nan, nan, nan],\n",
       "          [nan, nan, nan,  ..., nan, nan, nan],\n",
       "          ...,\n",
       "          [nan, nan, nan,  ..., nan, nan, nan],\n",
       "          [nan, nan, nan,  ..., nan, nan, nan],\n",
       "          [nan, nan, nan,  ..., nan, nan, nan]],\n",
       "\n",
       "         [[nan, nan, nan,  ..., nan, nan, nan],\n",
       "          [nan, nan, nan,  ..., nan, nan, nan],\n",
       "          [nan, nan, nan,  ..., nan, nan, nan],\n",
       "          ...,\n",
       "          [nan, nan, nan,  ..., nan, nan, nan],\n",
       "          [nan, nan, nan,  ..., nan, nan, nan],\n",
       "          [nan, nan, nan,  ..., nan, nan, nan]],\n",
       "\n",
       "         [[nan, nan, nan,  ..., nan, nan, nan],\n",
       "          [nan, nan, nan,  ..., nan, nan, nan],\n",
       "          [nan, nan, nan,  ..., nan, nan, nan],\n",
       "          ...,\n",
       "          [nan, nan, nan,  ..., nan, nan, nan],\n",
       "          [nan, nan, nan,  ..., nan, nan, nan],\n",
       "          [nan, nan, nan,  ..., nan, nan, nan]],\n",
       "\n",
       "         [[nan, nan, nan,  ..., nan, nan, nan],\n",
       "          [nan, nan, nan,  ..., nan, nan, nan],\n",
       "          [nan, nan, nan,  ..., nan, nan, nan],\n",
       "          ...,\n",
       "          [nan, nan, nan,  ..., nan, nan, nan],\n",
       "          [nan, nan, nan,  ..., nan, nan, nan],\n",
       "          [nan, nan, nan,  ..., nan, nan, nan]],\n",
       "\n",
       "         [[nan, nan, nan,  ..., nan, nan, nan],\n",
       "          [nan, nan, nan,  ..., nan, nan, nan],\n",
       "          [nan, nan, nan,  ..., nan, nan, nan],\n",
       "          ...,\n",
       "          [nan, nan, nan,  ..., nan, nan, nan],\n",
       "          [nan, nan, nan,  ..., nan, nan, nan],\n",
       "          [nan, nan, nan,  ..., nan, nan, nan]]],\n",
       "\n",
       "\n",
       "        [[[nan, nan, nan,  ..., nan, nan, nan],\n",
       "          [nan, nan, nan,  ..., nan, nan, nan],\n",
       "          [nan, nan, nan,  ..., nan, nan, nan],\n",
       "          ...,\n",
       "          [nan, nan, nan,  ..., nan, nan, nan],\n",
       "          [nan, nan, nan,  ..., nan, nan, nan],\n",
       "          [nan, nan, nan,  ..., nan, nan, nan]],\n",
       "\n",
       "         [[nan, nan, nan,  ..., nan, nan, nan],\n",
       "          [nan, nan, nan,  ..., nan, nan, nan],\n",
       "          [nan, nan, nan,  ..., nan, nan, nan],\n",
       "          ...,\n",
       "          [nan, nan, nan,  ..., nan, nan, nan],\n",
       "          [nan, nan, nan,  ..., nan, nan, nan],\n",
       "          [nan, nan, nan,  ..., nan, nan, nan]],\n",
       "\n",
       "         [[nan, nan, nan,  ..., nan, nan, nan],\n",
       "          [nan, nan, nan,  ..., nan, nan, nan],\n",
       "          [nan, nan, nan,  ..., nan, nan, nan],\n",
       "          ...,\n",
       "          [nan, nan, nan,  ..., nan, nan, nan],\n",
       "          [nan, nan, nan,  ..., nan, nan, nan],\n",
       "          [nan, nan, nan,  ..., nan, nan, nan]],\n",
       "\n",
       "         [[nan, nan, nan,  ..., nan, nan, nan],\n",
       "          [nan, nan, nan,  ..., nan, nan, nan],\n",
       "          [nan, nan, nan,  ..., nan, nan, nan],\n",
       "          ...,\n",
       "          [nan, nan, nan,  ..., nan, nan, nan],\n",
       "          [nan, nan, nan,  ..., nan, nan, nan],\n",
       "          [nan, nan, nan,  ..., nan, nan, nan]],\n",
       "\n",
       "         [[nan, nan, nan,  ..., nan, nan, nan],\n",
       "          [nan, nan, nan,  ..., nan, nan, nan],\n",
       "          [nan, nan, nan,  ..., nan, nan, nan],\n",
       "          ...,\n",
       "          [nan, nan, nan,  ..., nan, nan, nan],\n",
       "          [nan, nan, nan,  ..., nan, nan, nan],\n",
       "          [nan, nan, nan,  ..., nan, nan, nan]]],\n",
       "\n",
       "\n",
       "        [[[nan, nan, nan,  ..., nan, nan, nan],\n",
       "          [nan, nan, nan,  ..., nan, nan, nan],\n",
       "          [nan, nan, nan,  ..., nan, nan, nan],\n",
       "          ...,\n",
       "          [nan, nan, nan,  ..., nan, nan, nan],\n",
       "          [nan, nan, nan,  ..., nan, nan, nan],\n",
       "          [nan, nan, nan,  ..., nan, nan, nan]],\n",
       "\n",
       "         [[nan, nan, nan,  ..., nan, nan, nan],\n",
       "          [nan, nan, nan,  ..., nan, nan, nan],\n",
       "          [nan, nan, nan,  ..., nan, nan, nan],\n",
       "          ...,\n",
       "          [nan, nan, nan,  ..., nan, nan, nan],\n",
       "          [nan, nan, nan,  ..., nan, nan, nan],\n",
       "          [nan, nan, nan,  ..., nan, nan, nan]],\n",
       "\n",
       "         [[nan, nan, nan,  ..., nan, nan, nan],\n",
       "          [nan, nan, nan,  ..., nan, nan, nan],\n",
       "          [nan, nan, nan,  ..., nan, nan, nan],\n",
       "          ...,\n",
       "          [nan, nan, nan,  ..., nan, nan, nan],\n",
       "          [nan, nan, nan,  ..., nan, nan, nan],\n",
       "          [nan, nan, nan,  ..., nan, nan, nan]],\n",
       "\n",
       "         [[nan, nan, nan,  ..., nan, nan, nan],\n",
       "          [nan, nan, nan,  ..., nan, nan, nan],\n",
       "          [nan, nan, nan,  ..., nan, nan, nan],\n",
       "          ...,\n",
       "          [nan, nan, nan,  ..., nan, nan, nan],\n",
       "          [nan, nan, nan,  ..., nan, nan, nan],\n",
       "          [nan, nan, nan,  ..., nan, nan, nan]],\n",
       "\n",
       "         [[nan, nan, nan,  ..., nan, nan, nan],\n",
       "          [nan, nan, nan,  ..., nan, nan, nan],\n",
       "          [nan, nan, nan,  ..., nan, nan, nan],\n",
       "          ...,\n",
       "          [nan, nan, nan,  ..., nan, nan, nan],\n",
       "          [nan, nan, nan,  ..., nan, nan, nan],\n",
       "          [nan, nan, nan,  ..., nan, nan, nan]]]])"
      ]
     },
     "execution_count": 3846,
     "metadata": {},
     "output_type": "execute_result"
    }
   ],
   "source": [
    "W2"
   ]
  },
  {
   "cell_type": "code",
   "execution_count": 3861,
   "metadata": {},
   "outputs": [
    {
     "data": {
      "image/png": "[encoded data removed]",
      "text/plain": [
       "<Figure size 720x216 with 16 Axes>"
      ]
     },
     "metadata": {
      "needs_background": "light"
     },
     "output_type": "display_data"
    }
   ],
   "source": [
    "fig = plt.figure(figsize=(10,3))\n",
    "for i in range(16):\n",
    "    fig.add_subplot(2,8,i+1)\n",
    "    plt.imshow(W_F[0,0,i,:].reshape(12,12).cpu().numpy(),cmap='Greys')\n",
    "plt.savefig('Model2_W')"
   ]
  },
  {
   "cell_type": "code",
   "execution_count": 3863,
   "metadata": {},
   "outputs": [
    {
     "data": {
      "text/plain": [
       "torch.Size([16, 400])"
      ]
     },
     "execution_count": 3863,
     "metadata": {},
     "output_type": "execute_result"
    }
   ],
   "source": [
    "A.shape"
   ]
  },
  {
   "cell_type": "code",
   "execution_count": 3873,
   "metadata": {},
   "outputs": [],
   "source": [
    "funargs_F = (W_F,A_F)"
   ]
  },
  {
   "cell_type": "code",
   "execution_count": 3875,
   "metadata": {},
   "outputs": [],
   "source": [
    "def visZ(DAE, funargs, ix,k=1):\n",
    "    '''Visualize higher layer weight matrices. For each \"point\" in the RF of a neuron, will visualize the lower layer's RF's.\n",
    "    (a,b) are the Cartesian coordinates, while ix denotes the depth\n",
    "    '''\n",
    "    N, L1_dim, d1,d2 = DAE.print_parms()\n",
    "    L1_dim = int((N+S1-n1)/S1) #one-sided: number of units\n",
    "    fig = plt.figure(figsize = (10,10))\n",
    "    W,A = funargs\n",
    "    Az= A[ix].reshape(L1_dim,L1_dim,d1)\n",
    "    for i in range(L1_dim):\n",
    "        for j in range(L1_dim):\n",
    "            _,idx = torch.sort(Az[i,j,:], descending = True)\n",
    "            fig.add_subplot(L1_dim,L1_dim,L1_dim*i + j + 1)\n",
    "            plt.imshow((1/k*W[i, j, idx[:k],:]).sum(dim = 0).reshape(n1,n1).cpu().numpy(), cmap = 'Greys')\n",
    "            \n",
    "    return "
   ]
  },
  {
   "cell_type": "code",
   "execution_count": 3884,
   "metadata": {},
   "outputs": [
    {
     "data": {
      "image/png": "[encoded data removed]",
      "text/plain": [
       "<Figure size 720x720 with 25 Axes>"
      ]
     },
     "metadata": {
      "needs_background": "light"
     },
     "output_type": "display_data"
    }
   ],
   "source": [
    "visZ(main, funargs_F, 0,3)\n",
    "plt.savefig('Model2_VisualAgg3')"
   ]
  },
  {
   "cell_type": "code",
   "execution_count": 3657,
   "metadata": {},
   "outputs": [],
   "source": [
    "y,v,w,v_z,w_z,z = main.getVars(xpts[len(xpts)-1])"
   ]
  },
  {
   "cell_type": "code",
   "execution_count": 3658,
   "metadata": {},
   "outputs": [],
   "source": [
    "ix = y.argmax().item()"
   ]
  },
  {
   "cell_type": "code",
   "execution_count": 3659,
   "metadata": {},
   "outputs": [
    {
     "data": {
      "text/plain": [
       "[<matplotlib.lines.Line2D at 0x7fef456b7c18>]"
      ]
     },
     "execution_count": 3659,
     "metadata": {},
     "output_type": "execute_result"
    },
    {
     "data": {
      "image/png": "[encoded data removed]",
      "text/plain": [
       "<Figure size 432x288 with 1 Axes>"
      ]
     },
     "metadata": {
      "needs_background": "light"
     },
     "output_type": "display_data"
    }
   ],
   "source": [
    "plt.plot(xpts[:,ix+400].cpu().numpy())"
   ]
  },
  {
   "cell_type": "code",
   "execution_count": 2872,
   "metadata": {},
   "outputs": [
    {
     "ename": "IndexError",
     "evalue": "too many indices for tensor of dimension 2",
     "output_type": "error",
     "traceback": [
      "\u001b[0;31m---------------------------------------------------------------------------\u001b[0m",
      "\u001b[0;31mIndexError\u001b[0m                                Traceback (most recent call last)",
      "\u001b[0;32m<ipython-input-2872-a2b14abc3ba3>\u001b[0m in \u001b[0;36m<module>\u001b[0;34m\u001b[0m\n\u001b[0;32m----> 1\u001b[0;31m \u001b[0mv_trace\u001b[0m \u001b[0;34m=\u001b[0m \u001b[0;36m1\u001b[0m\u001b[0;34m/\u001b[0m\u001b[0mT\u001b[0m\u001b[0;34m*\u001b[0m\u001b[0;34m(\u001b[0m\u001b[0mxpts\u001b[0m\u001b[0;34m[\u001b[0m\u001b[0;34m:\u001b[0m\u001b[0;34m,\u001b[0m\u001b[0;36m400\u001b[0m\u001b[0;34m,\u001b[0m\u001b[0;36m800\u001b[0m\u001b[0;34m]\u001b[0m\u001b[0;34m**\u001b[0m\u001b[0;36m2\u001b[0m\u001b[0;34m)\u001b[0m\u001b[0;34m.\u001b[0m\u001b[0msum\u001b[0m\u001b[0;34m(\u001b[0m\u001b[0mdim\u001b[0m\u001b[0;34m=\u001b[0m\u001b[0;36m0\u001b[0m\u001b[0;34m)\u001b[0m \u001b[0;31m#average power\u001b[0m\u001b[0;34m\u001b[0m\u001b[0;34m\u001b[0m\u001b[0m\n\u001b[0m",
      "\u001b[0;31mIndexError\u001b[0m: too many indices for tensor of dimension 2"
     ]
    }
   ],
   "source": [
    "        v_trace = 1/T*(xpts[:,400,800]**2).sum(dim=0) #average power\n"
   ]
  },
  {
   "cell_type": "code",
   "execution_count": null,
   "metadata": {},
   "outputs": [],
   "source": [
    "torch.cat((torch.cat((a,b), dim = 0),c), dim = 0)"
   ]
  },
  {
   "cell_type": "code",
   "execution_count": null,
   "metadata": {},
   "outputs": [],
   "source": [
    "C  = torch.stack((a,b))"
   ]
  },
  {
   "cell_type": "code",
   "execution_count": null,
   "metadata": {},
   "outputs": [],
   "source": [
    "a"
   ]
  },
  {
   "cell_type": "code",
   "execution_count": null,
   "metadata": {},
   "outputs": [],
   "source": []
  }
 ],
 "metadata": {
  "kernelspec": {
   "display_name": "Python 3",
   "language": "python",
   "name": "python3"
  }
 },
 "nbformat": 4,
 "nbformat_minor": 2
}
