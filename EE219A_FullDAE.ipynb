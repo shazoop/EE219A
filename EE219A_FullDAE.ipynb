{
 "cells": [
  {
   "cell_type": "code",
   "execution_count": 1144,
   "metadata": {},
   "outputs": [],
   "source": [
    "import matplotlib.pyplot as plt\n",
    "import math\n",
    "import torch\n",
    "import V1_DAE as V1\n",
    "import V1_DAE_v2 as V2\n",
    "import NR\n",
    "import importlib\n",
    "import FitzNag as FN\n",
    "import DAE_solver as DS\n",
    "from data_generator import *\n",
    "import torchvision\n",
    "import torchvision.datasets as datasets"
   ]
  },
  {
   "cell_type": "code",
   "execution_count": 641,
   "metadata": {},
   "outputs": [],
   "source": [
    "torch.set_default_tensor_type('torch.cuda.FloatTensor')\n",
    "torch.cuda.set_device(0) #use GPU 1"
   ]
  },
  {
   "cell_type": "code",
   "execution_count": 642,
   "metadata": {},
   "outputs": [],
   "source": [
    "#Load MNIST\n",
    "mnist_trainset = datasets.MNIST(root='./data', train=True, download=True, transform=None)\n",
    "data_load = torch.utils.data.DataLoader(mnist_trainset, shuffle = True)"
   ]
  },
  {
   "cell_type": "code",
   "execution_count": 643,
   "metadata": {},
   "outputs": [],
   "source": [
    "mov_len = 5\n",
    "images = data_load.dataset.data[0:1000].numpy()\n",
    "M = rand_trans(images, 1, 3)\n",
    "data_mov = torch.from_numpy(image_gen(images,M, mov_len)).float().cuda()\n",
    "data_mov = data_mov/255"
   ]
  },
  {
   "cell_type": "code",
   "execution_count": 646,
   "metadata": {},
   "outputs": [
    {
     "data": {
      "text/plain": [
       "torch.Size([1000, 5, 28, 28])"
      ]
     },
     "execution_count": 646,
     "metadata": {},
     "output_type": "execute_result"
    }
   ],
   "source": [
    "data_mov.shape"
   ]
  },
  {
   "cell_type": "code",
   "execution_count": 644,
   "metadata": {},
   "outputs": [
    {
     "data": {
      "text/plain": [
       "<module 'V1_DAE' from '/home/shazoop/form-and-motion/EE219A/V1_DAE.py'>"
      ]
     },
     "execution_count": 644,
     "metadata": {},
     "output_type": "execute_result"
    }
   ],
   "source": [
    "importlib.reload(V1)"
   ]
  },
  {
   "cell_type": "code",
   "execution_count": 647,
   "metadata": {
    "scrolled": true
   },
   "outputs": [
    {
     "data": {
      "image/png": "[encoded data removed]",
      "text/plain": [
       "<Figure size 720x720 with 5 Axes>"
      ]
     },
     "metadata": {
      "needs_background": "light"
     },
     "output_type": "display_data"
    }
   ],
   "source": [
    "fig =  plt.figure(figsize= (10,10) )\n",
    "for i in range(mov_len):\n",
    "    fig.add_subplot(1,mov_len, i + 1)\n",
    "    plt.imshow(data_mov[0,i,:].cpu().numpy(), cmap = 'Greys')"
   ]
  },
  {
   "cell_type": "code",
   "execution_count": 2732,
   "metadata": {},
   "outputs": [],
   "source": [
    "main = V2.fullV1(a=  .8, b=.3, tau = 10)"
   ]
  },
  {
   "cell_type": "code",
   "execution_count": 2733,
   "metadata": {},
   "outputs": [
    {
     "data": {
      "text/plain": [
       "['In the hidden layer, there are 25 units per slice, with depth 16, and RF size: 12 by 12',\n",
       " 'In the top layer, there are 16 units',\n",
       " 'There are 400 hidden units, 16 top units, and 1632 units in total.',\n",
       " 'Fitz-Nag parameters (a,b, tau) are (0.8,0.3, 10).',\n",
       " 'Self-activation parameter is 0.5']"
      ]
     },
     "execution_count": 2733,
     "metadata": {},
     "output_type": "execute_result"
    }
   ],
   "source": [
    "main.summary()"
   ]
  },
  {
   "cell_type": "code",
   "execution_count": 2734,
   "metadata": {},
   "outputs": [],
   "source": [
    "x, funargs= main.init()"
   ]
  },
  {
   "cell_type": "code",
   "execution_count": 2735,
   "metadata": {},
   "outputs": [],
   "source": [
    "Input = torch.rand(28,28)"
   ]
  },
  {
   "cell_type": "code",
   "execution_count": 2736,
   "metadata": {},
   "outputs": [
    {
     "data": {
      "text/plain": [
       "(tensor([0., 0.]), 1, 1)"
      ]
     },
     "execution_count": 2736,
     "metadata": {},
     "output_type": "execute_result"
    }
   ],
   "source": [
    "#Test run. SInce linear, should converge in 1 step for NR.\n",
    "f = lambda x ,funargs: torch.tensor([[3,0],[0,1]]).float() @ x\n",
    "df = lambda x, funargs: torch.tensor([[3,0],[0,1]]).float()\n",
    "xinit = torch.tensor([0,0]).float()\n",
    "NR.NR(f,df,xinit, [])"
   ]
  },
  {
   "cell_type": "code",
   "execution_count": 2765,
   "metadata": {},
   "outputs": [
    {
     "data": {
      "text/plain": [
       "<module 'DAE_solver' from '/home/shazoop/form-and-motion/EE219A/DAE_solver.py'>"
      ]
     },
     "execution_count": 2765,
     "metadata": {},
     "output_type": "execute_result"
    }
   ],
   "source": [
    "importlib.reload(FN)\n",
    "importlib.reload(DS)"
   ]
  },
  {
   "cell_type": "code",
   "execution_count": 2766,
   "metadata": {},
   "outputs": [],
   "source": [
    "fitz = FN.FN(n = 1, tau= 10)"
   ]
  },
  {
   "cell_type": "code",
   "execution_count": 2767,
   "metadata": {},
   "outputs": [
    {
     "name": "stdout",
     "output_type": "stream",
     "text": [
      "{'# neurons': 1, 'a': 0.7, 'b': 0.8, 'tau': 10}\n"
     ]
    }
   ],
   "source": [
    "fitz.print_parms()"
   ]
  },
  {
   "cell_type": "code",
   "execution_count": 2768,
   "metadata": {},
   "outputs": [],
   "source": [
    "x = fitz.init()"
   ]
  },
  {
   "cell_type": "code",
   "execution_count": 2769,
   "metadata": {},
   "outputs": [],
   "source": [
    "u = 3*torch.ones(1).float()"
   ]
  },
  {
   "cell_type": "code",
   "execution_count": 2770,
   "metadata": {},
   "outputs": [],
   "source": [
    "DSsolve = DS.DAE_solver(fitz,x,u, funargs = [], h = .1, tstop = 10, method = 'BE')"
   ]
  },
  {
   "cell_type": "code",
   "execution_count": 2771,
   "metadata": {},
   "outputs": [],
   "source": [
    "tpts, xpts = DSsolve.solve()"
   ]
  },
  {
   "cell_type": "code",
   "execution_count": 2772,
   "metadata": {},
   "outputs": [
    {
     "data": {
      "text/plain": [
       "[<matplotlib.lines.Line2D at 0x7fef5b18feb8>]"
      ]
     },
     "execution_count": 2772,
     "metadata": {},
     "output_type": "execute_result"
    },
    {
     "data": {
      "image/png": "[encoded data removed]",
      "text/plain": [
       "<Figure size 432x288 with 1 Axes>"
      ]
     },
     "metadata": {
      "needs_background": "light"
     },
     "output_type": "display_data"
    }
   ],
   "source": [
    "plt.plot(xpts[:,0].cpu().numpy())"
   ]
  },
  {
   "cell_type": "code",
   "execution_count": 2753,
   "metadata": {},
   "outputs": [
    {
     "data": {
      "text/plain": [
       "torch.Size([102, 2])"
      ]
     },
     "execution_count": 2753,
     "metadata": {},
     "output_type": "execute_result"
    }
   ],
   "source": [
    "xpts.shape"
   ]
  },
  {
   "cell_type": "code",
   "execution_count": 3704,
   "metadata": {},
   "outputs": [
    {
     "data": {
      "text/plain": [
       "<module 'V1_DAE_v2' from '/home/shazoop/form-and-motion/EE219A/V1_DAE_v2.py'>"
      ]
     },
     "execution_count": 3704,
     "metadata": {},
     "output_type": "execute_result"
    }
   ],
   "source": [
    "importlib.reload(V1)\n",
    "importlib.reload(DS)\n",
    "importlib.reload(V2)"
   ]
  },
  {
   "cell_type": "code",
   "execution_count": 3795,
   "metadata": {},
   "outputs": [],
   "source": [
    "main = V1.fullV1(tau = 50, lam = .5)"
   ]
  },
  {
   "cell_type": "code",
   "execution_count": 3796,
   "metadata": {},
   "outputs": [
    {
     "data": {
      "text/plain": [
       "{'pixel dim': 28,\n",
       " 'RF 1 dim': 12,\n",
       " 'hidden layer depth': 16,\n",
       " 'top layer depth': 16,\n",
       " 'L1 stride': 4,\n",
       " 'self-activate  parameter': 0.5,\n",
       " 'a': 0.7,\n",
       " 'b': 0.8,\n",
       " 'tau': 50}"
      ]
     },
     "execution_count": 3796,
     "metadata": {},
     "output_type": "execute_result"
    }
   ],
   "source": [
    "main.print_allparms()"
   ]
  },
  {
   "cell_type": "code",
   "execution_count": 3797,
   "metadata": {},
   "outputs": [
    {
     "data": {
      "text/plain": [
       "['In the hidden layer, there are 25 units per slice, with depth 16, and RF size: 12 by 12',\n",
       " 'In the top layer, there are 16 units',\n",
       " 'There are 400 hidden units, 16 top units, and 1248 units in total.',\n",
       " 'Fitz-Nag parameters (a,b, tau) are (0.7,0.8, 50).',\n",
       " 'Self-activation parameter is 0.5']"
      ]
     },
     "execution_count": 3797,
     "metadata": {},
     "output_type": "execute_result"
    }
   ],
   "source": [
    "main.summary()"
   ]
  },
  {
   "cell_type": "code",
   "execution_count": 3798,
   "metadata": {},
   "outputs": [],
   "source": [
    "x, funargs = main.init()"
   ]
  },
  {
   "cell_type": "code",
   "execution_count": 3799,
   "metadata": {},
   "outputs": [],
   "source": [
    "# N,n1,d1,d2,S1, lam, a, b, tau = main._parms.values()\n",
    "# itau = 1/tau\n",
    "# L1_dim = int((N+S1-n1)/S1) #one-sided: number of units\n",
    "# L1sq = int(L1_dim**2)\n",
    "# N1 = L1sq*d1\n",
    "# N2 = d2\n",
    "# ttlN = 3*N1 + 3*N2\n",
    "# y,v,w,v_z,w_z,z = main.getVars(x)\n",
    "# W,A = funargs\n",
    "\n",
    "# Q = torch.zeros(N1,N1)\n",
    "# Q1 = (torch.ones(d1,d1) - lam*torch.eye(d1))\n",
    "# for i in range(L1sq):\n",
    "#     Q[i*d1:(i+1)*d1, i*d1:(i+1)*d1] = Q1\n",
    "# J[:N1,:N1] = torch.diag(V1.drelu(V1.logG(u) - Q @ y)) @ (-Q) - torch.eye(N1)  \n"
   ]
  },
  {
   "cell_type": "code",
   "execution_count": 3800,
   "metadata": {},
   "outputs": [],
   "source": [
    "u = main.uMul(data_mov[1,0],funargs)"
   ]
  },
  {
   "cell_type": "code",
   "execution_count": 3818,
   "metadata": {},
   "outputs": [],
   "source": [
    "DSsolve = DS.DAE_solver(main,x,u, funargs = funargs, h = .05, tstop = 8, method = 'BE', \\\n",
    "                        NRparms = {'maxiter': 200, 'reltol': 1e-3, 'abstol': 1e-3, 'restol': 1e-4, 'convcrit': 'dxORres' })"
   ]
  },
  {
   "cell_type": "code",
   "execution_count": 3819,
   "metadata": {},
   "outputs": [
    {
     "name": "stdout",
     "output_type": "stream",
     "text": [
      "\n",
      "NR failed to solve nonlinear equations - reached maxiter=200\n",
      "NR failed to converge at time 4.249999999999993, step 85\n"
     ]
    }
   ],
   "source": [
    "_,xpts = DSsolve.solve()"
   ]
  },
  {
   "cell_type": "code",
   "execution_count": 3820,
   "metadata": {},
   "outputs": [],
   "source": [
    "y,v,w,v_z,w_z,z = main.getVars(xpts[len(xpts)-1])"
   ]
  },
  {
   "cell_type": "code",
   "execution_count": 3821,
   "metadata": {},
   "outputs": [],
   "source": [
    "ix = y.argmax().item()"
   ]
  },
  {
   "cell_type": "code",
   "execution_count": 3822,
   "metadata": {},
   "outputs": [
    {
     "data": {
      "text/plain": [
       "torch.Size([400])"
      ]
     },
     "execution_count": 3822,
     "metadata": {},
     "output_type": "execute_result"
    }
   ],
   "source": [
    "y.shape"
   ]
  },
  {
   "cell_type": "code",
   "execution_count": 3823,
   "metadata": {},
   "outputs": [
    {
     "data": {
      "text/plain": [
       "(array([323.,  23.,  22.,  11.,  10.,   2.,   5.,   3.,   0.,   1.]),\n",
       " array([1.6347830e-04, 2.9085225e-01, 5.8154100e-01, 8.7222975e-01,\n",
       "        1.1629186e+00, 1.4536073e+00, 1.7442961e+00, 2.0349848e+00,\n",
       "        2.3256736e+00, 2.6163623e+00, 2.9070511e+00], dtype=float32),\n",
       " <a list of 10 Patch objects>)"
      ]
     },
     "execution_count": 3823,
     "metadata": {},
     "output_type": "execute_result"
    },
    {
     "data": {
      "image/png": "[encoded data removed]",
      "text/plain": [
       "<Figure size 432x288 with 1 Axes>"
      ]
     },
     "metadata": {
      "needs_background": "light"
     },
     "output_type": "display_data"
    }
   ],
   "source": [
    "plt.hist(y.cpu().numpy())\n",
    "#plt.savefig('Model2_y')"
   ]
  },
  {
   "cell_type": "code",
   "execution_count": 3824,
   "metadata": {},
   "outputs": [
    {
     "data": {
      "text/plain": [
       "tensor([ 3.4322e-01,  3.4327e-01,  2.4116e-01, -4.4877e-15,  1.0590e-01,\n",
       "        -4.4904e-15,  2.4868e-02, -4.4877e-15,  2.5451e-02,  2.4079e-01,\n",
       "        -1.4250e-14,  1.9778e-02, -4.4877e-15,  3.4244e-01,  2.1285e-01,\n",
       "         2.4741e-02])"
      ]
     },
     "execution_count": 3824,
     "metadata": {},
     "output_type": "execute_result"
    }
   ],
   "source": [
    "z"
   ]
  },
  {
   "cell_type": "code",
   "execution_count": 3825,
   "metadata": {},
   "outputs": [],
   "source": [
    "#1/len(xpts)*(xpts[:,400:800]**2).sum(dim=0)"
   ]
  },
  {
   "cell_type": "code",
   "execution_count": 3826,
   "metadata": {},
   "outputs": [],
   "source": [
    "#1/len(xpts)*xpts[:,400:800].clamp(min=0).sum(dim=0)"
   ]
  },
  {
   "cell_type": "code",
   "execution_count": 3827,
   "metadata": {
    "scrolled": true
   },
   "outputs": [
    {
     "data": {
      "text/plain": [
       "[<matplotlib.lines.Line2D at 0x7fef43c9f400>]"
      ]
     },
     "execution_count": 3827,
     "metadata": {},
     "output_type": "execute_result"
    },
    {
     "data": {
      "image/png": "[encoded data removed]",
      "text/plain": [
       "<Figure size 432x288 with 1 Axes>"
      ]
     },
     "metadata": {
      "needs_background": "light"
     },
     "output_type": "display_data"
    }
   ],
   "source": [
    "plt.plot(xpts[:,ix+400].cpu().numpy())\n",
    "#plt.savefig('Model2_v')"
   ]
  },
  {
   "cell_type": "code",
   "execution_count": 3828,
   "metadata": {},
   "outputs": [
    {
     "data": {
      "text/plain": [
       "tensor(2)"
      ]
     },
     "execution_count": 3828,
     "metadata": {},
     "output_type": "execute_result"
    }
   ],
   "source": [
    "v_z.argmax()"
   ]
  },
  {
   "cell_type": "code",
   "execution_count": 3829,
   "metadata": {},
   "outputs": [
    {
     "data": {
      "text/plain": [
       "[<matplotlib.lines.Line2D at 0x7fef43c71828>]"
      ]
     },
     "execution_count": 3829,
     "metadata": {},
     "output_type": "execute_result"
    },
    {
     "data": {
      "image/png": "[encoded data removed]",
      "text/plain": [
       "<Figure size 432x288 with 1 Axes>"
      ]
     },
     "metadata": {
      "needs_background": "light"
     },
     "output_type": "display_data"
    }
   ],
   "source": [
    "plt.plot(xpts[:,13+1200].cpu().numpy())\n",
    "#plt.savefig('Model2_vz')"
   ]
  },
  {
   "cell_type": "code",
   "execution_count": 3830,
   "metadata": {},
   "outputs": [
    {
     "data": {
      "text/plain": [
       "(array([9., 0., 0., 1., 0., 0., 1., 2., 0., 3.]),\n",
       " array([-1.4249908e-14,  3.4327008e-02,  6.8654016e-02,  1.0298103e-01,\n",
       "         1.3730803e-01,  1.7163505e-01,  2.0596206e-01,  2.4028906e-01,\n",
       "         2.7461606e-01,  3.0894309e-01,  3.4327009e-01], dtype=float32),\n",
       " <a list of 10 Patch objects>)"
      ]
     },
     "execution_count": 3830,
     "metadata": {},
     "output_type": "execute_result"
    },
    {
     "data": {
      "image/png": "[encoded data removed]",
      "text/plain": [
       "<Figure size 432x288 with 1 Axes>"
      ]
     },
     "metadata": {
      "needs_background": "light"
     },
     "output_type": "display_data"
    }
   ],
   "source": [
    "plt.hist(z.cpu().numpy())\n",
    "#plt.savefig('Model2_z')"
   ]
  },
  {
   "cell_type": "code",
   "execution_count": 3814,
   "metadata": {},
   "outputs": [],
   "source": [
    "ix = y.argmax().item()"
   ]
  },
  {
   "cell_type": "code",
   "execution_count": 3815,
   "metadata": {},
   "outputs": [
    {
     "data": {
      "text/plain": [
       "[<matplotlib.lines.Line2D at 0x7fef43dc4f28>]"
      ]
     },
     "execution_count": 3815,
     "metadata": {},
     "output_type": "execute_result"
    },
    {
     "data": {
      "image/png": "[encoded data removed]",
      "text/plain": [
       "<Figure size 432x288 with 1 Axes>"
      ]
     },
     "metadata": {
      "needs_background": "light"
     },
     "output_type": "display_data"
    }
   ],
   "source": [
    "plt.plot(xpts[:,ix+400].cpu().numpy())"
   ]
  },
  {
   "cell_type": "code",
   "execution_count": 3296,
   "metadata": {},
   "outputs": [
    {
     "ename": "NameError",
     "evalue": "name 'x_final2' is not defined",
     "output_type": "error",
     "traceback": [
      "\u001b[0;31m---------------------------------------------------------------------------\u001b[0m",
      "\u001b[0;31mNameError\u001b[0m                                 Traceback (most recent call last)",
      "\u001b[0;32m<ipython-input-3296-af06fa51b81d>\u001b[0m in \u001b[0;36m<module>\u001b[0;34m\u001b[0m\n\u001b[0;32m----> 1\u001b[0;31m \u001b[0mx_final2\u001b[0m\u001b[0;34m[\u001b[0m\u001b[0;36m400\u001b[0m\u001b[0;34m:\u001b[0m\u001b[0;36m800\u001b[0m\u001b[0;34m]\u001b[0m\u001b[0;34m.\u001b[0m\u001b[0msum\u001b[0m\u001b[0;34m(\u001b[0m\u001b[0mdim\u001b[0m\u001b[0;34m=\u001b[0m\u001b[0;36m0\u001b[0m\u001b[0;34m)\u001b[0m\u001b[0;34m\u001b[0m\u001b[0;34m\u001b[0m\u001b[0m\n\u001b[0m",
      "\u001b[0;31mNameError\u001b[0m: name 'x_final2' is not defined"
     ]
    }
   ],
   "source": [
    "x_final2[400:800].sum(dim=0)"
   ]
  },
  {
   "cell_type": "code",
   "execution_count": null,
   "metadata": {},
   "outputs": [],
   "source": [
    "plt.plot(xpts[:,8+1200].cpu().numpy())"
   ]
  },
  {
   "cell_type": "code",
   "execution_count": 2846,
   "metadata": {},
   "outputs": [
    {
     "data": {
      "text/plain": [
       "tensor(4.4127)"
      ]
     },
     "execution_count": 2846,
     "metadata": {},
     "output_type": "execute_result"
    }
   ],
   "source": [
    "torch.max(1/102*(xpts[:,400:800].abs()).sum(dim=0))"
   ]
  },
  {
   "cell_type": "code",
   "execution_count": 3787,
   "metadata": {},
   "outputs": [
    {
     "data": {
      "text/plain": [
       "<module 'V1_DAE' from '/home/shazoop/form-and-motion/EE219A/V1_DAE.py'>"
      ]
     },
     "execution_count": 3787,
     "metadata": {},
     "output_type": "execute_result"
    }
   ],
   "source": [
    "importlib.reload(DS)\n",
    "importlib.reload(V1)"
   ]
  },
  {
   "cell_type": "code",
   "execution_count": 3831,
   "metadata": {},
   "outputs": [
    {
     "data": {
      "text/plain": [
       "['In the hidden layer, there are 25 units per slice, with depth 16, and RF size: 12 by 12',\n",
       " 'In the top layer, there are 16 units',\n",
       " 'There are 400 hidden units, 16 top units, and 1248 units in total.',\n",
       " 'Fitz-Nag parameters (a,b, tau) are (0.7,0.8, 50).',\n",
       " 'Self-activation parameter is 0.5']"
      ]
     },
     "execution_count": 3831,
     "metadata": {},
     "output_type": "execute_result"
    }
   ],
   "source": [
    "main = V1.fullV1(tau = 50, lam = .5)\n",
    "main.summary()"
   ]
  },
  {
   "cell_type": "code",
   "execution_count": 3832,
   "metadata": {},
   "outputs": [],
   "source": [
    "N, L1,d1,d2 = main.print_parms()\n",
    "\n",
    "trainSteps = 500\n",
    "par1 = .3\n",
    "par2 = .3\n",
    "par3 = .2"
   ]
  },
  {
   "cell_type": "code",
   "execution_count": 3835,
   "metadata": {},
   "outputs": [],
   "source": [
    "x, funargs = main.init()\n",
    "W,A = funargs"
   ]
  },
  {
   "cell_type": "code",
   "execution_count": null,
   "metadata": {},
   "outputs": [
    {
     "name": "stdout",
     "output_type": "stream",
     "text": [
      "\n",
      "NR failed to solve nonlinear equations - reached maxiter=200\n",
      "NR failed to converge at time 0.8000000000000002, step 16\n",
      "\n",
      "NR failed to solve nonlinear equations - reached maxiter=200\n",
      "NR failed to converge at time 0.44999999999999996, step 9\n",
      "\n",
      "NR failed to solve nonlinear equations - reached maxiter=200\n",
      "NR failed to converge at time 0.3, step 6\n",
      "\n",
      "NR failed to solve nonlinear equations - reached maxiter=200\n",
      "NR failed to converge at time 0.5499999999999999, step 11\n",
      "0\n",
      "\n",
      "NR failed to solve nonlinear equations - reached maxiter=200\n",
      "NR failed to converge at time 5.799999999999987, step 116\n",
      "\n",
      "NR failed to solve nonlinear equations - reached maxiter=200\n",
      "NR failed to converge at time 0.15000000000000002, step 3\n",
      "\n",
      "NR failed to solve nonlinear equations - reached maxiter=200\n",
      "NR failed to converge at time 3.649999999999995, step 73\n",
      "\n",
      "NR failed to solve nonlinear equations - reached maxiter=200\n",
      "NR failed to converge at time 0.9000000000000002, step 18\n",
      "\n",
      "NR failed to solve nonlinear equations - reached maxiter=200\n",
      "NR failed to converge at time 0.15000000000000002, step 3\n",
      "1\n",
      "\n",
      "NR failed to solve nonlinear equations - reached maxiter=200\n",
      "NR failed to converge at time 3.899999999999994, step 78\n",
      "\n",
      "NR failed to solve nonlinear equations - reached maxiter=200\n",
      "NR failed to converge at time 0.8500000000000002, step 17\n",
      "\n",
      "NR failed to solve nonlinear equations - reached maxiter=200\n",
      "NR failed to converge at time 0.44999999999999996, step 9\n",
      "\n",
      "NR failed to solve nonlinear equations - reached maxiter=200\n",
      "NR failed to converge at time 3.049999999999997, step 61\n",
      "\n",
      "NR failed to solve nonlinear equations - reached maxiter=200\n",
      "NR failed to converge at time 2.6499999999999986, step 53\n",
      "2\n",
      "\n",
      "NR failed to solve nonlinear equations - reached maxiter=200\n",
      "NR failed to converge at time 4.149999999999993, step 83\n",
      "\n",
      "NR failed to solve nonlinear equations - reached maxiter=200\n",
      "NR failed to converge at time 1.2000000000000004, step 24\n",
      "\n",
      "NR failed to solve nonlinear equations - reached maxiter=200\n",
      "NR failed to converge at time 0.39999999999999997, step 8\n",
      "\n",
      "NR failed to solve nonlinear equations - reached maxiter=200\n",
      "NR failed to converge at time 2.000000000000001, step 40\n",
      "\n",
      "NR failed to solve nonlinear equations - reached maxiter=200\n",
      "NR failed to converge at time 0.9500000000000003, step 19\n",
      "3\n",
      "\n",
      "NR failed to solve nonlinear equations - reached maxiter=200\n",
      "NR failed to converge at time 5.04999999999999, step 101\n",
      "\n",
      "NR failed to solve nonlinear equations - reached maxiter=200\n",
      "NR failed to converge at time 0.25, step 5\n",
      "\n",
      "NR failed to solve nonlinear equations - reached maxiter=200\n",
      "NR failed to converge at time 1.850000000000001, step 37\n",
      "\n",
      "NR failed to solve nonlinear equations - reached maxiter=200\n",
      "NR failed to converge at time 2.3, step 46\n",
      "\n",
      "NR failed to solve nonlinear equations - reached maxiter=200\n",
      "NR failed to converge at time 0.6, step 12\n",
      "4\n",
      "\n",
      "NR failed to solve nonlinear equations - reached maxiter=200\n",
      "NR failed to converge at time 4.449999999999992, step 89\n",
      "\n",
      "NR failed to solve nonlinear equations - reached maxiter=200\n",
      "NR failed to converge at time 0.1, step 2\n",
      "\n",
      "NR failed to solve nonlinear equations - reached maxiter=200\n",
      "NR failed to converge at time 0.7000000000000001, step 14\n",
      "\n",
      "NR failed to solve nonlinear equations - reached maxiter=200\n",
      "NR failed to converge at time 0.44999999999999996, step 9\n",
      "\n",
      "NR failed to solve nonlinear equations - reached maxiter=200\n",
      "NR failed to converge at time 0, step 0\n",
      "5\n",
      "\n",
      "NR failed to solve nonlinear equations - reached maxiter=200\n",
      "NR failed to converge at time 4.749999999999991, step 95\n",
      "\n",
      "NR failed to solve nonlinear equations - reached maxiter=200\n",
      "NR failed to converge at time 1.6500000000000008, step 33\n",
      "\n",
      "NR failed to solve nonlinear equations - reached maxiter=200\n",
      "NR failed to converge at time 2.3499999999999996, step 47\n",
      "\n",
      "NR failed to solve nonlinear equations - reached maxiter=200\n",
      "NR failed to converge at time 2.2, step 44\n",
      "\n",
      "NR failed to solve nonlinear equations - reached maxiter=200\n",
      "NR failed to converge at time 0.8500000000000002, step 17\n",
      "6\n",
      "\n",
      "NR failed to solve nonlinear equations - reached maxiter=200\n",
      "NR failed to converge at time 4.299999999999993, step 86\n",
      "\n",
      "NR failed to solve nonlinear equations - reached maxiter=200\n",
      "NR failed to converge at time 1.3500000000000005, step 27\n",
      "\n",
      "NR failed to solve nonlinear equations - reached maxiter=200\n",
      "NR failed to converge at time 1.4500000000000006, step 29\n",
      "\n",
      "NR failed to solve nonlinear equations - reached maxiter=200\n",
      "NR failed to converge at time 2.7499999999999982, step 55\n",
      "\n",
      "NR failed to solve nonlinear equations - reached maxiter=200\n",
      "NR failed to converge at time 0.39999999999999997, step 8\n",
      "7\n",
      "\n",
      "NR failed to solve nonlinear equations - reached maxiter=200\n",
      "NR failed to converge at time 3.599999999999995, step 72\n",
      "\n",
      "NR failed to solve nonlinear equations - reached maxiter=200\n",
      "NR failed to converge at time 1.6000000000000008, step 32\n",
      "\n",
      "NR failed to solve nonlinear equations - reached maxiter=200\n",
      "NR failed to converge at time 1.2000000000000004, step 24\n",
      "\n",
      "NR failed to solve nonlinear equations - reached maxiter=200\n",
      "NR failed to converge at time 1.2000000000000004, step 24\n",
      "\n",
      "NR failed to solve nonlinear equations - reached maxiter=200\n",
      "NR failed to converge at time 0.8000000000000002, step 16\n",
      "8\n",
      "\n",
      "NR failed to solve nonlinear equations - reached maxiter=200\n",
      "NR failed to converge at time 2.6999999999999984, step 54\n",
      "\n",
      "NR failed to solve nonlinear equations - reached maxiter=200\n",
      "NR failed to converge at time 0.25, step 5\n",
      "\n",
      "NR failed to solve nonlinear equations - reached maxiter=200\n",
      "NR failed to converge at time 1.5500000000000007, step 31\n",
      "\n",
      "NR failed to solve nonlinear equations - reached maxiter=200\n",
      "NR failed to converge at time 0, step 0\n",
      "\n",
      "NR failed to solve nonlinear equations - reached maxiter=200\n",
      "NR failed to converge at time 1.2000000000000004, step 24\n",
      "9\n",
      "\n",
      "NR failed to solve nonlinear equations - reached maxiter=200\n",
      "NR failed to converge at time 4.249999999999993, step 85\n",
      "\n",
      "NR failed to solve nonlinear equations - reached maxiter=200\n",
      "NR failed to converge at time 1.1500000000000004, step 23\n",
      "\n",
      "NR failed to solve nonlinear equations - reached maxiter=200\n",
      "NR failed to converge at time 0.1, step 2\n",
      "\n",
      "NR failed to solve nonlinear equations - reached maxiter=200\n",
      "NR failed to converge at time 0.3, step 6\n",
      "\n",
      "NR failed to solve nonlinear equations - reached maxiter=200\n",
      "NR failed to converge at time 0.65, step 13\n",
      "10\n",
      "\n",
      "NR failed to solve nonlinear equations - reached maxiter=200\n",
      "NR failed to converge at time 2.6499999999999986, step 53\n",
      "\n",
      "NR failed to solve nonlinear equations - reached maxiter=200\n",
      "NR failed to converge at time 0.7000000000000001, step 14\n",
      "\n",
      "NR failed to solve nonlinear equations - reached maxiter=200\n",
      "NR failed to converge at time 2.9499999999999975, step 59\n",
      "\n",
      "NR failed to solve nonlinear equations - reached maxiter=200\n",
      "NR failed to converge at time 0, step 0\n",
      "11\n",
      "\n",
      "NR failed to solve nonlinear equations - reached maxiter=200\n",
      "NR failed to converge at time 3.399999999999996, step 68\n",
      "\n",
      "NR failed to solve nonlinear equations - reached maxiter=200\n",
      "NR failed to converge at time 1.5000000000000007, step 30\n",
      "\n",
      "NR failed to solve nonlinear equations - reached maxiter=200\n",
      "NR failed to converge at time 0.35, step 7\n",
      "\n",
      "NR failed to solve nonlinear equations - reached maxiter=200\n",
      "NR failed to converge at time 0.2, step 4\n",
      "\n",
      "NR failed to solve nonlinear equations - reached maxiter=200\n",
      "NR failed to converge at time 2.3499999999999996, step 47\n",
      "12\n",
      "\n",
      "NR failed to solve nonlinear equations - reached maxiter=200\n",
      "NR failed to converge at time 2.9999999999999973, step 60\n",
      "\n",
      "NR failed to solve nonlinear equations - reached maxiter=200\n",
      "NR failed to converge at time 0.1, step 2\n",
      "\n",
      "NR failed to solve nonlinear equations - reached maxiter=200\n",
      "NR failed to converge at time 1.6000000000000008, step 32\n",
      "\n",
      "NR failed to solve nonlinear equations - reached maxiter=200\n",
      "NR failed to converge at time 1.4500000000000006, step 29\n",
      "13\n",
      "\n",
      "NR failed to solve nonlinear equations - reached maxiter=200\n",
      "NR failed to converge at time 2.5999999999999988, step 52\n",
      "\n",
      "NR failed to solve nonlinear equations - reached maxiter=200\n",
      "NR failed to converge at time 0.3, step 6\n",
      "\n",
      "NR failed to solve nonlinear equations - reached maxiter=200\n",
      "NR failed to converge at time 1.0500000000000003, step 21\n",
      "\n",
      "NR failed to solve nonlinear equations - reached maxiter=200\n",
      "NR failed to converge at time 0, step 0\n"
     ]
    },
    {
     "name": "stdout",
     "output_type": "stream",
     "text": [
      "\n",
      "NR failed to solve nonlinear equations - reached maxiter=200\n",
      "NR failed to converge at time 0, step 0\n",
      "14\n",
      "\n",
      "NR failed to solve nonlinear equations - reached maxiter=200\n",
      "NR failed to converge at time 3.7999999999999945, step 76\n"
     ]
    }
   ],
   "source": [
    "for train in range(trainSteps):\n",
    "    input_mov = data_mov[int(np.random.randint(0,data_mov.size(0),1))] #select a random movie sequence\n",
    "    x = main.xinit()\n",
    "    for i in range(mov_len):\n",
    "        uPix = main.pixel_mask(input_mov[i])\n",
    "        u = main.uMul(input_mov[i],funargs)\n",
    "        DSsolve = DS.DAE_solver(main,x,u, funargs = funargs, h = .05, tstop = 7, method = 'BE', \\\n",
    "                        NRparms = {'maxiter': 200, 'reltol': 1e-3, 'abstol': 1e-3, 'restol': 1e-4, 'convcrit': 'dxORres' })\n",
    "        _,xpts = DSsolve.solve()\n",
    "        y,v,w,v_z,w_z,z = main.getVars(xpts[len(xpts)-1])\n",
    "        T = len(xpts)\n",
    "        v_trace = 1/T*(xpts[:,400:800].clamp(min=0)).sum(dim=0) #average positive part\n",
    "        if i == 0:\n",
    "            z_avg = z\n",
    "        else:\n",
    "            z_avg = (1-par3)*z_avg + par3*z\n",
    "        v_in = v_trace.reshape(L1,L1,d1)\n",
    "        dW = torch.einsum('abc,abn -> abcn', v_in,uPix) - torch.einsum('abc,abcn -> abcn', v_in, W )\n",
    "        W = W + par1*dW\n",
    "        dA = torch.einsum('i,j -> ij', z_avg,v_trace) - torch.einsum('i,ij -> ij',z_avg,A)\n",
    "        A = A + par2*dA\n",
    "        x = xpts[len(xpts)-1]\n",
    "        funargs = (W,A)\n",
    "    print(train)\n",
    "        \n",
    "        \n",
    "        \n",
    "        \n",
    "\n"
   ]
  },
  {
   "cell_type": "code",
   "execution_count": null,
   "metadata": {},
   "outputs": [],
   "source": []
  },
  {
   "cell_type": "code",
   "execution_count": 3753,
   "metadata": {},
   "outputs": [],
   "source": [
    "#W_F,A_F = funargs"
   ]
  },
  {
   "cell_type": "code",
   "execution_count": 3776,
   "metadata": {},
   "outputs": [],
   "source": [
    "W,A=funargs"
   ]
  },
  {
   "cell_type": "code",
   "execution_count": 3777,
   "metadata": {},
   "outputs": [
    {
     "name": "stderr",
     "output_type": "stream",
     "text": [
      "/home/shazoop/anaconda3/lib/python3.7/site-packages/matplotlib/image.py:397: UserWarning: Warning: converting a masked element to nan.\n",
      "  dv = (np.float64(self.norm.vmax) -\n",
      "/home/shazoop/anaconda3/lib/python3.7/site-packages/matplotlib/image.py:398: UserWarning: Warning: converting a masked element to nan.\n",
      "  np.float64(self.norm.vmin))\n",
      "/home/shazoop/anaconda3/lib/python3.7/site-packages/matplotlib/image.py:405: UserWarning: Warning: converting a masked element to nan.\n",
      "  a_min = np.float64(newmin)\n",
      "/home/shazoop/anaconda3/lib/python3.7/site-packages/matplotlib/image.py:410: UserWarning: Warning: converting a masked element to nan.\n",
      "  a_max = np.float64(newmax)\n",
      "/home/shazoop/anaconda3/lib/python3.7/site-packages/matplotlib/colors.py:885: UserWarning: Warning: converting a masked element to nan.\n",
      "  dtype = np.min_scalar_type(value)\n",
      "/home/shazoop/anaconda3/lib/python3.7/site-packages/numpy/ma/core.py:713: UserWarning: Warning: converting a masked element to nan.\n",
      "  data = np.array(a, copy=False, subok=subok)\n"
     ]
    },
    {
     "data": {
      "image/png": "[encoded data removed]",
      "text/plain": [
       "<Figure size 720x720 with 16 Axes>"
      ]
     },
     "metadata": {
      "needs_background": "light"
     },
     "output_type": "display_data"
    }
   ],
   "source": [
    "fig = plt.figure(figsize=(10,10))\n",
    "for i in range(16):\n",
    "    fig.add_subplot(2,8,i+1)\n",
    "    plt.imshow(W[0,0,i,:].reshape(12,12).cpu().numpy(),cmap='Greys')"
   ]
  },
  {
   "cell_type": "code",
   "execution_count": 3657,
   "metadata": {},
   "outputs": [],
   "source": [
    "y,v,w,v_z,w_z,z = main.getVars(xpts[len(xpts)-1])"
   ]
  },
  {
   "cell_type": "code",
   "execution_count": 3658,
   "metadata": {},
   "outputs": [],
   "source": [
    "ix = y.argmax().item()"
   ]
  },
  {
   "cell_type": "code",
   "execution_count": 3659,
   "metadata": {},
   "outputs": [
    {
     "data": {
      "text/plain": [
       "[<matplotlib.lines.Line2D at 0x7fef456b7c18>]"
      ]
     },
     "execution_count": 3659,
     "metadata": {},
     "output_type": "execute_result"
    },
    {
     "data": {
      "image/png": "[encoded data removed]",
      "text/plain": [
       "<Figure size 432x288 with 1 Axes>"
      ]
     },
     "metadata": {
      "needs_background": "light"
     },
     "output_type": "display_data"
    }
   ],
   "source": [
    "plt.plot(xpts[:,ix+400].cpu().numpy())"
   ]
  },
  {
   "cell_type": "code",
   "execution_count": 2872,
   "metadata": {},
   "outputs": [
    {
     "ename": "IndexError",
     "evalue": "too many indices for tensor of dimension 2",
     "output_type": "error",
     "traceback": [
      "\u001b[0;31m---------------------------------------------------------------------------\u001b[0m",
      "\u001b[0;31mIndexError\u001b[0m                                Traceback (most recent call last)",
      "\u001b[0;32m<ipython-input-2872-a2b14abc3ba3>\u001b[0m in \u001b[0;36m<module>\u001b[0;34m\u001b[0m\n\u001b[0;32m----> 1\u001b[0;31m \u001b[0mv_trace\u001b[0m \u001b[0;34m=\u001b[0m \u001b[0;36m1\u001b[0m\u001b[0;34m/\u001b[0m\u001b[0mT\u001b[0m\u001b[0;34m*\u001b[0m\u001b[0;34m(\u001b[0m\u001b[0mxpts\u001b[0m\u001b[0;34m[\u001b[0m\u001b[0;34m:\u001b[0m\u001b[0;34m,\u001b[0m\u001b[0;36m400\u001b[0m\u001b[0;34m,\u001b[0m\u001b[0;36m800\u001b[0m\u001b[0;34m]\u001b[0m\u001b[0;34m**\u001b[0m\u001b[0;36m2\u001b[0m\u001b[0;34m)\u001b[0m\u001b[0;34m.\u001b[0m\u001b[0msum\u001b[0m\u001b[0;34m(\u001b[0m\u001b[0mdim\u001b[0m\u001b[0;34m=\u001b[0m\u001b[0;36m0\u001b[0m\u001b[0;34m)\u001b[0m \u001b[0;31m#average power\u001b[0m\u001b[0;34m\u001b[0m\u001b[0;34m\u001b[0m\u001b[0m\n\u001b[0m",
      "\u001b[0;31mIndexError\u001b[0m: too many indices for tensor of dimension 2"
     ]
    }
   ],
   "source": [
    "        v_trace = 1/T*(xpts[:,400,800]**2).sum(dim=0) #average power\n"
   ]
  },
  {
   "cell_type": "code",
   "execution_count": null,
   "metadata": {},
   "outputs": [],
   "source": [
    "torch.cat((torch.cat((a,b), dim = 0),c), dim = 0)"
   ]
  },
  {
   "cell_type": "code",
   "execution_count": null,
   "metadata": {},
   "outputs": [],
   "source": [
    "C  = torch.stack((a,b))"
   ]
  },
  {
   "cell_type": "code",
   "execution_count": null,
   "metadata": {},
   "outputs": [],
   "source": [
    "a"
   ]
  },
  {
   "cell_type": "code",
   "execution_count": null,
   "metadata": {},
   "outputs": [],
   "source": []
  }
 ],
 "metadata": {
  "kernelspec": {
   "display_name": "Python 3",
   "language": "python",
   "name": "python3"
  }
 },
 "nbformat": 4,
 "nbformat_minor": 2
}
